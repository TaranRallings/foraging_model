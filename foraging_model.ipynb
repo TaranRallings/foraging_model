{
 "cells": [
  {
   "cell_type": "markdown",
   "metadata": {},
   "source": [
    "### Mixed foraging and compartment model"
   ]
  },
  {
   "cell_type": "markdown",
   "metadata": {},
   "source": [
    "broadly\n",
    "- do equids as trial\n",
    "    - range of equid body masses, fitness, prop grass\n",
    "\n",
    "To do\n",
    "- review g vs kg in allometric equations\n",
    "- (done) track and output mean and std of body condition \n",
    "- identify problem with energy loss\n",
    "- fix problem with energy loss\n",
    "\n",
    "\n",
    "\n",
    "Problems\n",
    "- central problem is starvation never occurs. Need to iron out metabolic rates\n",
    "\n",
    "\n",
    "Notes\n",
    "- might be able to speed up by not regenerating distributions \n"
   ]
  },
  {
   "cell_type": "markdown",
   "metadata": {},
   "source": [
    "##### Current State of Variables\n",
    "1) foraging strategies - Justin's \n",
    "2) alpha               - allometric\n",
    "3) beta                - allometric\n",
    "4) gamma               - allometric\n",
    "5) resource gain       - 16.7 kj/g as in pure carb/protein\n",
    "6) mouth size          - allometric\n",
    "7) gut size            - allometric, gut type\n",
    "8) fat max             - allometric\n",
    "9) velocity            - allometric\n",
    "10) metabolic rates    - allometric"
   ]
  },
  {
   "cell_type": "code",
   "execution_count": 1,
   "metadata": {},
   "outputs": [
    {
     "data": {
      "text/plain": [
       "find_nearest_resource (generic function with 2 methods)"
      ]
     },
     "execution_count": 1,
     "metadata": {},
     "output_type": "execute_result"
    }
   ],
   "source": [
    "using Distributed\n",
    "using RCall\n",
    "@everywhere using SharedArrays\n",
    "@everywhere using Distributions\n",
    "@everywhere using LinearAlgebra\n",
    "\n",
    "include(\"./resource_functions.jl\") # functions for the resource landscape\n",
    "include(\"./consumer_functions.jl\") # functions for the consumer dynamics\n",
    "include(\"./intake_model_functions.jl\") # functions for the consumer dynamics\n",
    "\n",
    "    "
   ]
  },
  {
   "cell_type": "code",
   "execution_count": 2,
   "metadata": {},
   "outputs": [],
   "source": [
    "using Random\n",
    "Random.seed!(42);"
   ]
  },
  {
   "cell_type": "code",
   "execution_count": 3,
   "metadata": {},
   "outputs": [],
   "source": [
    "number_resources = 2;\n",
    "target_values = [0.0, 0.25, 0.5, 0.75, 1.0]; \n",
    "strategy_id = repeat(collect(1:number_resources), inner=(length(target_values), 1));\n",
    "target_weight = repeat(target_values, outer=(number_resources, 1));\n",
    "strategy_info = Tuple([strategy_id, target_weight]);\n"
   ]
  },
  {
   "cell_type": "code",
   "execution_count": 4,
   "metadata": {},
   "outputs": [],
   "source": [
    "configurations = 10;\n",
    "\n",
    "t = 0;   #[s]\n",
    "t_max = 100000; # 2629800s in a month\n",
    "\n",
    "species_list = [1.0, 10.0, 100.0, 1000.0, 10000.0];\n",
    "#species_list = [1000.0]\n",
    "number_species = length(species_list);\n",
    "\n",
    "#mouth = 0;\n",
    "#mouth_max = 10;   #[g]\n",
    "\n",
    "#gut = 11;\n",
    "#gut_fill_max = 1000;  #[g]\n",
    "\n",
    "\n",
    "\n",
    "\n",
    "\n",
    "#fat = 10;\n",
    "#fat_max = 100000;   #[g]\n",
    "\n",
    "#velocity = 1.0;   #[m/s]\n",
    "\n",
    "at_food = false;\n",
    "cropping = false;\n",
    "chewing = false;\n",
    "\n",
    "#alpha = [alpha_allo(mass, \"graze\"), alpha_allo(mass, \"browse\")#[1.0, 1.5]; # [g/s]\n",
    "#beta = 1.0;         # [g/s]\n",
    "#gamma = 0.01;        # [g/s]\n",
    "#rates = [alpha, beta, gamma];\n",
    "\n",
    "#basal = 0.001      #[kj/s]\n",
    "#field = 0.01;     #[kj/s]\n",
    "\n",
    "num_succ = 0;\n",
    "\n",
    "\n",
    "# first pass RLB plant data suggested 0.1-0.3 kgC/m2yr\n",
    "# experiment with monthly productivity as mean 8.3-25 g/m2month\n",
    "resource_gain = [16.7, 16.7];\n"
   ]
  },
  {
   "cell_type": "code",
   "execution_count": 5,
   "metadata": {},
   "outputs": [],
   "source": [
    "# grass, browse\n",
    "# justify pure forest and pure grassland distrib\n",
    "resource_scenarios = [\n",
    "                     #[[0.1 0.1]; [0.15 0.15]],\n",
    "                     [[0.2 24.0]; [0.25 30.0]],\n",
    "                     [[4.0 20.0];  [6.0  24.0]],\n",
    "                     [[8.0 16.0];  [10.0 20.0]],\n",
    "                     [[12.0 12.0]; [16.0 16.0]],\n",
    "                     [[16.0 8.0];  [20.0 12.0]],\n",
    "                     [[20.0 4.0];  [24.0 6.0]],\n",
    "                     [[24.0 0.1];  [30.0 0.15]]\n",
    "    ];\n",
    "\n",
    "number_scenarios = length(resource_scenarios);"
   ]
  },
  {
   "cell_type": "code",
   "execution_count": 6,
   "metadata": {},
   "outputs": [],
   "source": [
    "# construct a vector of graze values for the figure legends\n",
    "graze_vec = zeros(0)\n",
    "for i in 1:number_scenarios\n",
    "    append!(graze_vec, resource_scenarios[i,1][1])\n",
    "end\n",
    "graze_vec;"
   ]
  },
  {
   "cell_type": "code",
   "execution_count": 7,
   "metadata": {},
   "outputs": [
    {
     "data": {
      "text/plain": [
       "(1.1225003752534979e6, 0.10122143853426284, 0.2643004228394641, 2.2450007505069957e6)"
      ]
     },
     "execution_count": 7,
     "metadata": {},
     "output_type": "execute_result"
    }
   ],
   "source": [
    "a,b,c,d = find_metabolism(100)"
   ]
  },
  {
   "cell_type": "code",
   "execution_count": 8,
   "metadata": {},
   "outputs": [
    {
     "data": {
      "text/plain": [
       "427443.1232702752"
      ]
     },
     "execution_count": 8,
     "metadata": {},
     "output_type": "execute_result"
    }
   ],
   "source": [
    "a - c * 2629800"
   ]
  },
  {
   "cell_type": "code",
   "execution_count": 9,
   "metadata": {},
   "outputs": [],
   "source": [
    "# collect config_data for testing\n",
    "test_data = zeros(Float64, configurations, 6);\n",
    "\n",
    "# scenarios, data, species\n",
    "species_data = zeros(Float64, number_scenarios, 7, length(strategy_id), number_species)\n",
    "\n",
    "# loop through body masses\n",
    "for species in 1:number_species\n",
    "    strat_data = zeros(Float64, length(strategy_id), 7); # init array for storing data by config\n",
    "    alpha = [alpha_allo(species_list[species], \"graze\"), \n",
    "        alpha_allo(species_list[species], \"browse\")]\n",
    "    beta = beta_allo(species_list[species], \"lophs and flat\")\n",
    "\n",
    "    mrt = mean_retention_time(species_list[species], \"colon\")\n",
    "    #rates = [alpha, beta, gamma]\n",
    "    \n",
    "    \n",
    "    mouth_max = bite_size_allo(species_list[species], \"graze\"); # [g]\n",
    "    gut_fill_max = gut_volume_g(species_list[species], \"colon\")\n",
    "    velocity = find_velocity(species_list[species]);\n",
    "    initial_energy_state, basal, field, fat_max = find_metabolism(species_list[species]);\n",
    "    costs = [basal, field];\n",
    "    \n",
    "    \n",
    "for scenario in 1:length(resource_scenarios)\n",
    "    resource_stats = resource_scenarios[scenario]\n",
    "    \n",
    "    \n",
    "    \n",
    "# loop through strategies\n",
    "for target in 1:length(strategy_id)\n",
    "    \n",
    "config_data = zeros(Float64, configurations, 6); # init array for storing data by config\n",
    "\n",
    "# loop through configurations\n",
    "for config = 1:configurations  # loop from 1:10\n",
    "\n",
    "#target=1;\n",
    "t=0;\n",
    "num_succ = [0,0];\n",
    "at_food = false;\n",
    "cropping = false;\n",
    "chewing = false;\n",
    "\n",
    "mouth = 0;  #[g]\n",
    "gut = 100;   #[g]\n",
    "fat = initial_energy_state;   #[g]\n",
    "        \n",
    "chosen_resource = 0;\n",
    "\n",
    "###\n",
    "#1 while there is time left in the day\n",
    "while t <= t_max && fat >= 0\n",
    "\n",
    "    gamma = outflow_rate(gut, mrt)\n",
    "    #rates = [alpha, beta, gamma]\n",
    "    ### ###\n",
    "    #2 if you're hungry\n",
    "    #if gut <= gut_fill_max && fat <= fat_max  \n",
    "        \n",
    "        # if you're not at some food\n",
    "        if at_food == false;\n",
    "            # selects a resource to go after\n",
    "            #chosen_resource, distance = forage(strategy_id, target_weight, target, \n",
    "                #resource_stats);\n",
    "            #travel_time = distance/velocity; \n",
    "            chosen_resource, travel_time = travel(strategy_id, target_weight, \n",
    "                            target, resource_stats, velocity, t, t_max)            \n",
    "                        \n",
    "            # move to the food\n",
    "            mouth, gut, fat = update_compartments(travel_time, mouth, gut,\n",
    "                fat, [alpha, beta, gamma], costs, resource_gain; travelling=true)\n",
    "            t += travel_time;\n",
    "            at_food = true;\n",
    "                    \n",
    "                if fat <= 0\n",
    "                    break\n",
    "                end\n",
    "                    \n",
    "        end\n",
    "        \n",
    "        ### ### ###\n",
    "        #3 if mouth isn't full and you're not chewing and you're at some food\n",
    "        if mouth < mouth_max &&  chewing == false && at_food == true  # crop some food\n",
    "            handling_time = 1/alpha[chosen_resource]        \n",
    "            mouth, gut, fat = update_compartments((1/handling_time), \n",
    "                mouth, gut, fat, [alpha, beta, gamma], costs, resource_gain; cropping=true, resource=chosen_resource)\n",
    "            \n",
    "            num_succ[chosen_resource] += 1\n",
    "            t += handling_time\n",
    "            at_food = false;\n",
    "                    \n",
    "                    if fat <= 0\n",
    "                    break\n",
    "                end\n",
    "                    \n",
    "        end\n",
    "        \n",
    "        # if you're mouth is full but not chewing\n",
    "        if mouth >= mouth_max && chewing == false \n",
    "                    \n",
    "                mouth = mouth_max;\n",
    "                chewing = true # start chewing\n",
    "        end\n",
    "        \n",
    "        \n",
    "        if chewing == true && mouth > beta # if you are currently chewing   \n",
    "            mouth, gut, fat = update_compartments((1/beta), mouth, \n",
    "                gut, fat, [alpha, beta, gamma], costs, resource_gain; chewing=true)\n",
    "            t += (1/beta);\n",
    "                    \n",
    "                if fat <= 0\n",
    "                    break\n",
    "                end\n",
    "                    \n",
    "        end\n",
    "        if chewing == true && mouth <= beta\n",
    "                chewing = false\n",
    "            \n",
    "            end #3 end of if mouth isn't full and you're not chewing\n",
    "        ### ### ###\n",
    "                        \n",
    "        #end #2 end of if you're not hungry\n",
    "        ### ###    \n",
    "        \n",
    "                    \n",
    "        # add note on why this was necessary\n",
    "        mouth, gut, fat = update_compartments(1, mouth, \n",
    "                gut, fat, [alpha, beta, gamma], costs, resource_gain)\n",
    "        \n",
    "        #if fat <= 0\n",
    "         #           break\n",
    "          #      end\n",
    "                \n",
    "        t += 1.0;\n",
    "            \n",
    "    end  #1 end bout (while t<tmax_bout )\n",
    "    ###\n",
    "    \n",
    "        \n",
    "    config_data[config,1] = t;\n",
    "    config_data[config,2] = num_succ[1];\n",
    "    config_data[config,3] = num_succ[2];\n",
    "    config_data[config,4] = mouth;\n",
    "    config_data[config,5] = gut;\n",
    "    config_data[config,6] = fat;\n",
    "    \n",
    "    end\n",
    "# end loop through body configs\n",
    "    #strat_data[target, 1] = mean(config_data)\n",
    "    strat_data[target,1] = mean(config_data[:,1])\n",
    "    strat_data[target,2] = mean(config_data[:,2])\n",
    "    strat_data[target,3] = mean(config_data[:,3])\n",
    "    strat_data[target,4] = mean(config_data[:,4])\n",
    "    strat_data[target,5] = mean(config_data[:,5])\n",
    "    strat_data[target,6] = mean(config_data[:,6])\n",
    "    strat_data[target,7] = std(config_data[:,6])\n",
    "\n",
    "    species_data[scenario,1,target, species] = strat_data[target,1]\n",
    "    species_data[scenario,2,target, species] = strat_data[target,2]\n",
    "    species_data[scenario,3,target, species] = strat_data[target,3]\n",
    "    species_data[scenario,4,target, species] = strat_data[target,4]\n",
    "    species_data[scenario,5,target, species] = strat_data[target,5]\n",
    "    species_data[scenario,6,target, species] = strat_data[target,6]\n",
    "    species_data[scenario,7,target, species] = strat_data[target,7]\n",
    "\n",
    "    test_data=config_data\n",
    "            \n",
    "    end # end loop through strategies\n",
    "        \n",
    "    \n",
    "        \n",
    "        \n",
    "        end # end loop through resource scenarios\n",
    "\n",
    "   \n",
    "    \n",
    "\n",
    "    end #loop through masses\n",
    "# if [row, colum]\n",
    "\n",
    "# time, graze, browse, mouth, gut, fat"
   ]
  },
  {
   "cell_type": "code",
   "execution_count": 10,
   "metadata": {},
   "outputs": [],
   "source": [
    "# scenarios, data, strategies, species\n",
    "# time, graze, browse, mouth, gut, fat\n",
    "species_data[:,:,1,1];"
   ]
  },
  {
   "cell_type": "code",
   "execution_count": 11,
   "metadata": {},
   "outputs": [],
   "source": [
    "plotting_data = zeros(Float64, number_scenarios, 7, number_species); \n",
    "\n",
    "for scene in 1:number_scenarios\n",
    "    for datum in 1:7\n",
    "        for species in 1:number_species\n",
    "            \n",
    "            plotting_data[scene,datum,species]=mean(species_data[scene,datum,:,species])\n",
    "            \n",
    "        end\n",
    "    end\n",
    "end\n",
    "# scenarios, data, species\n",
    "plotting_data;"
   ]
  },
  {
   "cell_type": "code",
   "execution_count": 12,
   "metadata": {},
   "outputs": [],
   "source": [
    "# make plotting data into three matrices (fitness, graze, browse)\n",
    "\n",
    "fitness_data = zeros(Float64, number_scenarios, number_species,); \n",
    "graze_data = zeros(Float64, number_scenarios, number_species,); \n",
    "browse_data = zeros(Float64, number_scenarios, number_species,); \n",
    "condition_mean_data = zeros(Float64, number_scenarios, number_species,); \n",
    "condition_std_data = zeros(Float64, number_scenarios, number_species,); \n",
    "\n",
    "\n",
    "\n",
    "\n",
    "for scene in 1:number_scenarios\n",
    "    for species in 1:number_species\n",
    "            \n",
    "        fitness_data[scene, species]=plotting_data[scene, 1, species]\n",
    "        graze_data[scene, species]=plotting_data[scene, 2, species]\n",
    "        browse_data[scene, species]=plotting_data[scene, 3, species]\n",
    "        condition_mean_data[scene, species] = plotting_data[scene, 6, species]\n",
    "        condition_std_data[scene, species] = plotting_data[scene, 7, species]\n",
    "    end\n",
    "end\n",
    "\n",
    "condition_mean_data;"
   ]
  },
  {
   "cell_type": "code",
   "execution_count": 19,
   "metadata": {},
   "outputs": [
    {
     "data": {
      "text/plain": [
       "7×5 Array{Float64,2}:\n",
       " 9138.95  98099.7  1.11447e6  1.31368e7  1.61495e8\n",
       " 9267.79  99172.6  1.11885e6  1.31518e7  1.61553e8\n",
       " 9247.24  99285.3  1.11923e6  1.31513e7  1.6158e8 \n",
       " 9239.31  99270.6  1.11869e6  1.31455e7  1.61591e8\n",
       " 9236.62  99193.3  1.11767e6  1.31372e7  1.61594e8\n",
       " 9240.94  98983.3  1.1157e6   1.31245e7  1.61583e8\n",
       " 9022.13  97757.7  1.10974e6  1.3098e7   1.61538e8"
      ]
     },
     "execution_count": 19,
     "metadata": {},
     "output_type": "execute_result"
    }
   ],
   "source": [
    "condition_mean_data"
   ]
  },
  {
   "cell_type": "code",
   "execution_count": 13,
   "metadata": {},
   "outputs": [
    {
     "data": {
      "image/png": "[encoded data removed]"
     },
     "metadata": {},
     "output_type": "display_data"
    },
    {
     "data": {
      "text/plain": [
       "RObject{NilSxp}\n",
       "NULL\n"
      ]
     },
     "execution_count": 13,
     "metadata": {},
     "output_type": "execute_result"
    }
   ],
   "source": [
    "condition_mean = condition_mean_data ./ sum(condition_mean_data,dims=1)\n",
    "\n",
    "# Body condition mean\n",
    "R\"\"\"\n",
    "\n",
    "library(RColorBrewer)\n",
    "pal<-brewer.pal(11,\"Spectral\")\n",
    "\n",
    "image(y=log10($(species_list)),x=c($graze_vec) , z=$(condition_mean), \n",
    "        ylab=\"Equid Species log mass kg\", xlab=\"Mean Graze g/m2\")\n",
    "\"\"\""
   ]
  },
  {
   "cell_type": "code",
   "execution_count": 14,
   "metadata": {},
   "outputs": [
    {
     "data": {
      "image/png": "[encoded data removed]"
     },
     "metadata": {},
     "output_type": "display_data"
    },
    {
     "data": {
      "text/plain": [
       "RObject{NilSxp}\n",
       "NULL\n"
      ]
     },
     "execution_count": 14,
     "metadata": {},
     "output_type": "execute_result"
    }
   ],
   "source": [
    "condition_std_data = condition_std_data ./ sum(condition_std_data ,dims=1);\n",
    "\n",
    "\n",
    "# body condition standard deviation\n",
    "R\"\"\"\n",
    "\n",
    "library(RColorBrewer)\n",
    "pal<-brewer.pal(11,\"Spectral\")\n",
    "\n",
    "image(y=log10($(species_list)),x=c($graze_vec) , z=$(condition_std_data), \n",
    "        ylab=\"Equid Species log mass kg\", xlab=\"Mean Graze g/m2\")\n",
    "\"\"\""
   ]
  },
  {
   "cell_type": "code",
   "execution_count": 15,
   "metadata": {},
   "outputs": [
    {
     "data": {
      "image/png": "[encoded data removed]"
     },
     "metadata": {},
     "output_type": "display_data"
    },
    {
     "data": {
      "text/plain": [
       "RObject{NilSxp}\n",
       "NULL\n"
      ]
     },
     "execution_count": 15,
     "metadata": {},
     "output_type": "execute_result"
    }
   ],
   "source": [
    "# time survived\n",
    "R\"\"\"\n",
    "\n",
    "library(RColorBrewer)\n",
    "pal<-brewer.pal(11,\"Spectral\")\n",
    "\n",
    "image(y=log10($(species_list)),x=c($graze_vec) , z=$(fitness_data), ylab=\"Equid Species log mass kg\", \n",
    "        xlab=\"Mean Graze g/m2\")\n",
    "\"\"\""
   ]
  },
  {
   "cell_type": "code",
   "execution_count": 16,
   "metadata": {},
   "outputs": [
    {
     "data": {
      "image/png": "[encoded data removed]"
     },
     "metadata": {},
     "output_type": "display_data"
    },
    {
     "data": {
      "text/plain": [
       "RObject{NilSxp}\n",
       "NULL\n"
      ]
     },
     "execution_count": 16,
     "metadata": {},
     "output_type": "execute_result"
    }
   ],
   "source": [
    "graze = graze_data ./ sum(graze_data ,dims=1);\n",
    "\n",
    "# graze in diet\n",
    "R\"\"\"\n",
    "\n",
    "library(RColorBrewer)\n",
    "pal<-brewer.pal(11,\"Spectral\")\n",
    "\n",
    "image(y=log10($(species_list)),x=c($graze_vec), z=$(graze), ylab=\"Equid Species log mass kg\", \n",
    "        xlab=\"Mean Graze g/m2\")\n",
    "\"\"\""
   ]
  },
  {
   "cell_type": "code",
   "execution_count": 17,
   "metadata": {},
   "outputs": [
    {
     "data": {
      "image/png": "[encoded data removed]"
     },
     "metadata": {},
     "output_type": "display_data"
    },
    {
     "data": {
      "text/plain": [
       "RObject{NilSxp}\n",
       "NULL\n"
      ]
     },
     "execution_count": 17,
     "metadata": {},
     "output_type": "execute_result"
    }
   ],
   "source": [
    "browse = browse_data ./ sum(browse_data ,dims=1);\n",
    "\n",
    "# browse in diet\n",
    "#y=c(graze_vec)\n",
    "R\"\"\"\n",
    "library(RColorBrewer)\n",
    "pal<-brewer.pal(11,\"Spectral\")\n",
    "image(y=log10($(species_list)), x=c($graze_vec) , z=$(browse), ylab=\"Equid Species log mass kg\", \n",
    "        xlab=\"Mean Graze g/m2\")\n",
    "\"\"\""
   ]
  },
  {
   "cell_type": "code",
   "execution_count": null,
   "metadata": {},
   "outputs": [],
   "source": []
  }
 ],
 "metadata": {
  "@webio": {
   "lastCommId": "b3579b16345247e4adb54e96b567050a",
   "lastKernelId": "fad629d2-22c5-46c9-b28a-7bec2449f219"
  },
  "kernelspec": {
   "display_name": "Julia 1.0.0",
   "language": "julia",
   "name": "julia-1.0"
  },
  "language_info": {
   "file_extension": ".jl",
   "mimetype": "application/julia",
   "name": "julia",
   "version": "1.0.0"
  }
 },
 "nbformat": 4,
 "nbformat_minor": 2
}
