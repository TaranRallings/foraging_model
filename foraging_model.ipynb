{
 "cells": [
  {
   "cell_type": "markdown",
   "metadata": {},
   "source": [
    "### Mixed foraging and compartment model"
   ]
  },
  {
   "cell_type": "markdown",
   "metadata": {},
   "source": [
    "broadly\n",
    "- do equids as trial\n",
    "    - range of equid body masses, fitness, prop grass\n",
    "\n",
    "To do\n",
    "- loop over strategies (done)\n",
    "- loop over configurations (done)\n",
    "- loop over body size (done)\n",
    "- loop over environmental change (done)\n",
    "    - between species and strats (done)\n",
    "- store:\n",
    "    - time survived (done)\n",
    "    - compartment stats (done)\n",
    "    - track proportions of grass/browse in compartments (done)\n",
    "- implement traits\n",
    "    - equids\n",
    "        - velocity (done)\n",
    "        - metabolism (done)\n",
    "        - handling times\n",
    "        - digestive times\n",
    "    - grass/browse\n",
    "- review g vs kg\n",
    "\n",
    "Problems\n",
    "- central problem is starvation never occurs. Need to iron out metabolic rates\n",
    "\n",
    "\n",
    "Notes\n",
    "- might be able to speed up by not regenerating distributions \n"
   ]
  },
  {
   "cell_type": "markdown",
   "metadata": {},
   "source": [
    "##### Current State of Variables\n",
    "1) foraging strategies - Justin's \n",
    "2) alpha               - allometric\n",
    "3) beta                - allometric\n",
    "4) gamma               - allometric\n",
    "5) resource gain       - 16.7 kj/g as in pure carb/protein\n",
    "6) mouth size          - allometric\n",
    "7) gut size            - allometric, gut type\n",
    "8) fat max             - allometric\n",
    "9) velocity            - allometric\n",
    "10) metabolic rates    - allometric"
   ]
  },
  {
   "cell_type": "code",
   "execution_count": 27,
   "metadata": {},
   "outputs": [
    {
     "data": {
      "text/plain": [
       "find_nearest_resource (generic function with 2 methods)"
      ]
     },
     "execution_count": 27,
     "metadata": {},
     "output_type": "execute_result"
    }
   ],
   "source": [
    "using Distributed\n",
    "using RCall\n",
    "@everywhere using SharedArrays\n",
    "@everywhere using Distributions\n",
    "@everywhere using LinearAlgebra\n",
    "\n",
    "include(\"./resource_functions.jl\") # functions for the resource landscape\n",
    "include(\"./consumer_functions.jl\") # functions for the consumer dynamics\n",
    "include(\"./intake_model_functions.jl\") # functions for the consumer dynamics\n",
    "\n",
    "    "
   ]
  },
  {
   "cell_type": "code",
   "execution_count": 28,
   "metadata": {},
   "outputs": [],
   "source": [
    "using Random\n",
    "Random.seed!(42);"
   ]
  },
  {
   "cell_type": "code",
   "execution_count": 29,
   "metadata": {},
   "outputs": [],
   "source": [
    "number_resources = 2;\n",
    "target_values = [0.0, 0.25, 0.5, 0.75, 1.0]; \n",
    "strategy_id = repeat(collect(1:number_resources), inner=(length(target_values), 1));\n",
    "target_weight = repeat(target_values, outer=(number_resources, 1));\n",
    "strategy_info = Tuple([strategy_id, target_weight]);\n"
   ]
  },
  {
   "cell_type": "code",
   "execution_count": 30,
   "metadata": {},
   "outputs": [],
   "source": [
    "configurations = 1;\n",
    "\n",
    "t = 0;   #[s]\n",
    "t_max = 10000000; # 2629800s in a month\n",
    "\n",
    "#species_list = [0.1, 1.0, 10.0, 100.0, 1000.0, 10000.0, 100000.0];\n",
    "species_list = [1000.0]\n",
    "number_species = length(species_list);\n",
    "\n",
    "#mouth = 0;\n",
    "#mouth_max = 10;   #[g]\n",
    "\n",
    "#gut = 11;\n",
    "#gut_fill_max = 1000;  #[g]\n",
    "\n",
    "\n",
    "\n",
    "\n",
    "\n",
    "#fat = 10;\n",
    "#fat_max = 100000;   #[g]\n",
    "\n",
    "#velocity = 1.0;   #[m/s]\n",
    "\n",
    "at_food = false;\n",
    "cropping = false;\n",
    "chewing = false;\n",
    "\n",
    "#alpha = [alpha_allo(mass, \"graze\"), alpha_allo(mass, \"browse\")#[1.0, 1.5]; # [g/s]\n",
    "#beta = 1.0;         # [g/s]\n",
    "#gamma = 0.01;        # [g/s]\n",
    "#rates = [alpha, beta, gamma];\n",
    "\n",
    "#basal = 0.001      #[kj/s]\n",
    "#field = 0.01;     #[kj/s]\n",
    "\n",
    "num_succ = 0;\n",
    "\n",
    "\n",
    "# first pass RLB plant data suggested 0.1-0.3 kgC/m2yr\n",
    "# experiment with monthly productivity as mean 8.3-25 g/m2month\n",
    "resource_gain = [16.7, 16.7];\n"
   ]
  },
  {
   "cell_type": "code",
   "execution_count": 31,
   "metadata": {},
   "outputs": [
    {
     "data": {
      "text/plain": [
       "1"
      ]
     },
     "execution_count": 31,
     "metadata": {},
     "output_type": "execute_result"
    }
   ],
   "source": [
    "# grass, browse\n",
    "# justify pure forest and pure grassland distrib\n",
    "resource_scenarios = [\n",
    "                     [[0.1 0.1]; [0.15 0.15]],\n",
    "                     #[[0.2 24.0]; [0.25 30.0]],\n",
    "                     #[[4.0 20.0];  [6.0  24.0]],\n",
    "                     #[[8.0 16.0];  [10.0 20.0]],\n",
    "                     #[[12.0 12.0]; [16.0 16.0]],\n",
    "                     #[[16.0 8.0];  [20.0 12.0]],\n",
    "                     #[[20.0 4.0];  [24.0 6.0]],\n",
    "                     #[[24.0 0.1];  [30.0 0.15]]\n",
    "    ];\n",
    "\n",
    "number_scenarios = length(resource_scenarios)"
   ]
  },
  {
   "cell_type": "code",
   "execution_count": 32,
   "metadata": {},
   "outputs": [
    {
     "data": {
      "text/plain": [
       "1-element Array{Float64,1}:\n",
       " 0.1"
      ]
     },
     "execution_count": 32,
     "metadata": {},
     "output_type": "execute_result"
    }
   ],
   "source": [
    "# construct a vector of graze values for the figure legends\n",
    "graze_vec = zeros(0)\n",
    "for i in 1:number_scenarios\n",
    "    append!(graze_vec, resource_scenarios[i,1][1])\n",
    "end\n",
    "graze_vec"
   ]
  },
  {
   "cell_type": "code",
   "execution_count": 40,
   "metadata": {},
   "outputs": [
    {
     "data": {
      "text/plain": [
       "(2.0e7, 0.5692099788303082, 1.4862705002791385, 2.626154e7)"
      ]
     },
     "execution_count": 40,
     "metadata": {},
     "output_type": "execute_result"
    }
   ],
   "source": [
    "find_metabolism(1000)"
   ]
  },
  {
   "cell_type": "code",
   "execution_count": 43,
   "metadata": {},
   "outputs": [
    {
     "data": {
      "text/plain": [
       "1.6091405838365922e7"
      ]
     },
     "execution_count": 43,
     "metadata": {},
     "output_type": "execute_result"
    }
   ],
   "source": [
    "20000000 - 1.4862705002791385 * 2629800"
   ]
  },
  {
   "cell_type": "code",
   "execution_count": 33,
   "metadata": {},
   "outputs": [],
   "source": [
    "# scenarios, data, species\n",
    "species_data = zeros(Float64, number_scenarios, 6, length(strategy_id), number_species)\n",
    "\n",
    "# loop through body masses\n",
    "for species in 1:number_species\n",
    "    strat_data = zeros(Float64, length(strategy_id), 6); # init array for storing data by config\n",
    "    alpha = [alpha_allo(species_list[species], \"graze\"), \n",
    "        alpha_allo(species_list[species], \"browse\")]\n",
    "    beta = beta_allo(species_list[species], \"lophs and flat\")\n",
    "\n",
    "    mrt = mean_retention_time(species_list[species], \"colon\")\n",
    "    #rates = [alpha, beta, gamma]\n",
    "    \n",
    "    \n",
    "    mouth_max = bite_size_allo(species_list[species], \"graze\"); # [g]\n",
    "    gut_fill_max = gut_volume_g(species_list[species], \"colon\")\n",
    "    velocity = find_velocity(species_list[species]);\n",
    "    initial_energy_state, basal, field, fat_max = find_metabolism(species_list[species]);\n",
    "    costs = [basal, field];\n",
    "    \n",
    "    \n",
    "for scenario in 1:length(resource_scenarios)\n",
    "    resource_stats = resource_scenarios[scenario]\n",
    "    \n",
    "    \n",
    "    \n",
    "# loop through strategies\n",
    "for target in 1:length(strategy_id)\n",
    "    \n",
    "config_data = zeros(Float64, configurations, 6); # init array for storing data by config\n",
    "\n",
    "# loop through configurations\n",
    "for config = 1:configurations  # loop from 1:10\n",
    "\n",
    "#target=1;\n",
    "t=0;\n",
    "num_succ = [0,0];\n",
    "at_food = false;\n",
    "cropping = false;\n",
    "chewing = false;\n",
    "\n",
    "mouth = 0;  #[g]\n",
    "gut = 100;   #[g]\n",
    "fat = initial_energy_state;   #[g]\n",
    "        \n",
    "chosen_resource = 0;\n",
    "\n",
    "###\n",
    "#1 while there is time left in the day\n",
    "while t <= t_max && fat >= 0\n",
    "\n",
    "    gamma = outflow_rate(gut, mrt)\n",
    "    #rates = [alpha, beta, gamma]\n",
    "    ### ###\n",
    "    #2 if you're hungry\n",
    "    #if gut <= gut_fill_max && fat <= fat_max  \n",
    "        \n",
    "        # if you're not at some food\n",
    "        if at_food == false;\n",
    "            # selects a resource to go after\n",
    "            #chosen_resource, distance = forage(strategy_id, target_weight, target, \n",
    "                #resource_stats);\n",
    "            #travel_time = distance/velocity; \n",
    "            chosen_resource, travel_time = travel(strategy_id, target_weight, \n",
    "                            target, resource_stats, velocity, t, t_max)            \n",
    "                        \n",
    "            # move to the food\n",
    "            mouth, gut, fat = update_compartments(travel_time, mouth, gut,\n",
    "                fat, [alpha, beta, gamma], costs, resource_gain; travelling=true)\n",
    "            t += travel_time;\n",
    "            at_food = true;\n",
    "                    \n",
    "                if fat <= 0\n",
    "                    break\n",
    "                end\n",
    "                    \n",
    "        end\n",
    "        \n",
    "        ### ### ###\n",
    "        #3 if mouth isn't full and you're not chewing and you're at some food\n",
    "        if mouth < mouth_max &&  chewing == false && at_food == true  # crop some food\n",
    "            handling_time = 1/alpha[chosen_resource]        \n",
    "            mouth, gut, fat = update_compartments((1/handling_time), \n",
    "                mouth, gut, fat, [alpha, beta, gamma], costs, resource_gain; cropping=true, resource=chosen_resource)\n",
    "            \n",
    "            num_succ[chosen_resource] += 1\n",
    "            t += handling_time\n",
    "            at_food = false;\n",
    "                    \n",
    "                    if fat <= 0\n",
    "                    break\n",
    "                end\n",
    "                    \n",
    "        end\n",
    "        \n",
    "        # if you're mouth is full but not chewing\n",
    "        if mouth >= mouth_max && chewing == false \n",
    "                    \n",
    "                mouth = mouth_max;\n",
    "                chewing = true # start chewing\n",
    "        end\n",
    "        \n",
    "        \n",
    "        if chewing == true && mouth > beta # if you are currently chewing   \n",
    "            mouth, gut, fat = update_compartments((1/beta), mouth, \n",
    "                gut, fat, [alpha, beta, gamma], costs, resource_gain; chewing=true)\n",
    "            t += (1/beta);\n",
    "                    \n",
    "                if fat <= 0\n",
    "                    break\n",
    "                end\n",
    "                    \n",
    "        end\n",
    "        if chewing == true && mouth <= beta\n",
    "                chewing = false\n",
    "            \n",
    "            end #3 end of if mouth isn't full and you're not chewing\n",
    "        ### ### ###\n",
    "                        \n",
    "        #end #2 end of if you're not hungry\n",
    "        ### ###    \n",
    "        \n",
    "                    \n",
    "        # add note on why this was necessary\n",
    "        mouth, gut, fat = update_compartments(1, mouth, \n",
    "                gut, fat, [alpha, beta, gamma], costs, resource_gain)\n",
    "        \n",
    "        #if fat <= 0\n",
    "         #           break\n",
    "          #      end\n",
    "                \n",
    "        t += 1.0;\n",
    "            \n",
    "    end  #1 end bout (while t<tmax_bout )\n",
    "    ###\n",
    "        \n",
    "        \n",
    "    config_data[config,1] = t;\n",
    "    config_data[config,2] = num_succ[1];\n",
    "    config_data[config,3] = num_succ[2];\n",
    "    config_data[config,4] = mouth;\n",
    "    config_data[config,5] = gut;\n",
    "    config_data[config,6] = fat;\n",
    "    \n",
    "    end\n",
    "# end loop through body configs\n",
    "    #strat_data[target, 1] = mean(config_data)\n",
    "    strat_data[target,1] = mean(config_data[:,1])\n",
    "    strat_data[target,2] = mean(config_data[:,2])\n",
    "    strat_data[target,3] = mean(config_data[:,3])\n",
    "    strat_data[target,4] = mean(config_data[:,4])\n",
    "    strat_data[target,5] = mean(config_data[:,5])\n",
    "    strat_data[target,6] = mean(config_data[:,6])\n",
    "\n",
    "    species_data[scenario,1,target, species] = strat_data[target,1]\n",
    "    species_data[scenario,2,target, species] = strat_data[target,2]\n",
    "    species_data[scenario,3,target, species] = strat_data[target,3]\n",
    "    species_data[scenario,4,target, species] = strat_data[target,4]\n",
    "    species_data[scenario,5,target, species] = strat_data[target,5]\n",
    "    species_data[scenario,6,target, species] = strat_data[target,6]\n",
    "            \n",
    "    end # end loop through strategies\n",
    "        \n",
    "    \n",
    "        \n",
    "        \n",
    "        end # end loop through resource scenarios\n",
    "\n",
    "   \n",
    "    \n",
    "\n",
    "    end #loop through masses\n",
    "# if [row, colum]\n",
    "\n",
    "# time, graze, browse, mouth, gut, fat"
   ]
  },
  {
   "cell_type": "code",
   "execution_count": 34,
   "metadata": {},
   "outputs": [
    {
     "data": {
      "text/plain": [
       "1×6×10×1 Array{Float64,4}:\n",
       "[:, :, 1, 1] =\n",
       " 1.0e7  220.0  262.0  0.530994  32.8428  5.13976e6\n",
       "\n",
       "[:, :, 2, 1] =\n",
       " 1.0e7  148.0  110.0  1.01092  9.83526  5.13849e6\n",
       "\n",
       "[:, :, 3, 1] =\n",
       " 1.0e7  205.0  60.0  1.49085  8.56815  5.13868e6\n",
       "\n",
       "[:, :, 4, 1] =\n",
       " 1.0e7  178.0  28.0  1.01092  17.0359  5.13843e6\n",
       "\n",
       "[:, :, 5, 1] =\n",
       " 1.0e7  181.0  0.0  0.530994  9.65233  5.13821e6\n",
       "\n",
       "[:, :, 6, 1] =\n",
       " 1.0e7  176.0  155.0  1.01092  36.7108  5.13926e6\n",
       "\n",
       "[:, :, 7, 1] =\n",
       " 1.0e7  50.0  64.0  1.01092  16.1295  5.13776e6\n",
       "\n",
       "[:, :, 8, 1] =\n",
       " 1.0e7  52.0  165.0  1.01092  21.2639  5.13861e6\n",
       "\n",
       "[:, :, 9, 1] =\n",
       " 1.0e7  31.0  161.0  0.530994  40.7178  5.13832e6\n",
       "\n",
       "[:, :, 10, 1] =\n",
       " 1.0e7  0.0  100.0  0.530994  30.6956  5.13768e6"
      ]
     },
     "execution_count": 34,
     "metadata": {},
     "output_type": "execute_result"
    }
   ],
   "source": [
    "# scenarios, data, strategies, species\n",
    "# time, graze, browse, mouth, gut, fat\n",
    "species_data"
   ]
  },
  {
   "cell_type": "code",
   "execution_count": 35,
   "metadata": {},
   "outputs": [
    {
     "data": {
      "text/plain": [
       "1×3×1 Array{Float64,3}:\n",
       "[:, :, 1] =\n",
       " 1.0e7  124.1  110.5"
      ]
     },
     "execution_count": 35,
     "metadata": {},
     "output_type": "execute_result"
    }
   ],
   "source": [
    "plotting_data = zeros(Float64, number_scenarios, 3, number_species); \n",
    "\n",
    "for scene in 1:number_scenarios\n",
    "    for datum in 1:3\n",
    "        for species in 1:number_species\n",
    "            \n",
    "            plotting_data[scene,datum,species]=mean(species_data[scene,datum,:,species])\n",
    "            \n",
    "        end\n",
    "    end\n",
    "end\n",
    "# scenarios, data, species\n",
    "plotting_data"
   ]
  },
  {
   "cell_type": "code",
   "execution_count": 36,
   "metadata": {},
   "outputs": [
    {
     "data": {
      "text/plain": [
       "1×1 Array{Float64,2}:\n",
       " 1.0000002410262354e7"
      ]
     },
     "execution_count": 36,
     "metadata": {},
     "output_type": "execute_result"
    }
   ],
   "source": [
    "# make plotting data into three matrices (fitness, graze, browse)\n",
    "\n",
    "fitness_data = zeros(Float64, number_scenarios, number_species,); \n",
    "graze_data = zeros(Float64, number_scenarios, number_species,); \n",
    "browse_data = zeros(Float64, number_scenarios, number_species,); \n",
    "\n",
    "\n",
    "for scene in 1:number_scenarios\n",
    "    for species in 1:number_species\n",
    "            \n",
    "        fitness_data[scene ,species]=plotting_data[scene, 1, species]\n",
    "        graze_data[scene ,species]=plotting_data[scene, 2, species]\n",
    "        browse_data[scene ,species]=plotting_data[scene, 3, species]\n",
    "\n",
    "    end\n",
    "end\n",
    "\n",
    "fitness_data"
   ]
  },
  {
   "cell_type": "code",
   "execution_count": 37,
   "metadata": {},
   "outputs": [
    {
     "data": {
      "image/png": "[encoded data removed]"
     },
     "metadata": {},
     "output_type": "display_data"
    },
    {
     "data": {
      "text/plain": [
       "RObject{NilSxp}\n",
       "NULL\n"
      ]
     },
     "execution_count": 37,
     "metadata": {},
     "output_type": "execute_result"
    }
   ],
   "source": [
    "# time survived\n",
    "R\"\"\"\n",
    "\n",
    "library(RColorBrewer)\n",
    "pal<-brewer.pal(11,\"Spectral\")\n",
    "\n",
    "image(y=log10($(species_list)),x=c($graze_vec) , z=$(fitness_data), ylab=\"Equid Species log mass kg\", \n",
    "        xlab=\"Mean Graze g/m2\")\n",
    "\"\"\""
   ]
  },
  {
   "cell_type": "code",
   "execution_count": 38,
   "metadata": {},
   "outputs": [
    {
     "data": {
      "image/png": "[encoded data removed]"
     },
     "metadata": {},
     "output_type": "display_data"
    },
    {
     "data": {
      "text/plain": [
       "RObject{NilSxp}\n",
       "NULL\n"
      ]
     },
     "execution_count": 38,
     "metadata": {},
     "output_type": "execute_result"
    }
   ],
   "source": [
    "# graze in diet\n",
    "R\"\"\"\n",
    "\n",
    "library(RColorBrewer)\n",
    "pal<-brewer.pal(11,\"Spectral\")\n",
    "\n",
    "image(y=log10($(species_list)),x=c($graze_vec), z=$(graze_data), ylab=\"Equid Species log mass kg\", \n",
    "        xlab=\"Mean Graze g/m2\")\n",
    "\"\"\""
   ]
  },
  {
   "cell_type": "code",
   "execution_count": 39,
   "metadata": {},
   "outputs": [
    {
     "data": {
      "image/png": "[encoded data removed]"
     },
     "metadata": {},
     "output_type": "display_data"
    },
    {
     "data": {
      "text/plain": [
       "RObject{NilSxp}\n",
       "NULL\n"
      ]
     },
     "execution_count": 39,
     "metadata": {},
     "output_type": "execute_result"
    }
   ],
   "source": [
    "# browse in diet\n",
    "#y=c(graze_vec)\n",
    "R\"\"\"\n",
    "library(RColorBrewer)\n",
    "pal<-brewer.pal(11,\"Spectral\")\n",
    "image(y=log10($(species_list)), x=c($graze_vec) , z=$(browse_data), ylab=\"Equid Species log mass kg\", \n",
    "        xlab=\"Mean Graze g/m2\")\n",
    "\"\"\""
   ]
  },
  {
   "cell_type": "code",
   "execution_count": null,
   "metadata": {},
   "outputs": [],
   "source": []
  }
 ],
 "metadata": {
  "@webio": {
   "lastCommId": "d632bcfad9c642b980eb10325fc68242",
   "lastKernelId": "d70455d6-5942-49f6-a519-ca108b21db5f"
  },
  "kernelspec": {
   "display_name": "Julia 1.0.0",
   "language": "julia",
   "name": "julia-1.0"
  },
  "language_info": {
   "file_extension": ".jl",
   "mimetype": "application/julia",
   "name": "julia",
   "version": "1.0.0"
  }
 },
 "nbformat": 4,
 "nbformat_minor": 2
}
