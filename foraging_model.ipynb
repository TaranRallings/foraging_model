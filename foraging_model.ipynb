{
 "cells": [
  {
   "cell_type": "markdown",
   "metadata": {},
   "source": [
    "### Mixed foraging and compartment model"
   ]
  },
  {
   "cell_type": "markdown",
   "metadata": {},
   "source": [
    "broadly\n",
    "- do equids as trial\n",
    "    - range of equid body masses, fitness, prop grass\n",
    "\n",
    "To do\n",
    "- loop over strategies (done)\n",
    "- loop over configurations (done)\n",
    "- loop over body size (done)\n",
    "- loop over environmental change\n",
    "    - between species and strats\n",
    "- store:\n",
    "    - time survived (done)\n",
    "    - compartment stats (done)\n",
    "    - track proportions of grass/browse in compartments\n",
    "- implement traits\n",
    "    - equids\n",
    "        - velocity (done)\n",
    "        - metabolism (done)\n",
    "        - handling times\n",
    "        - digestive times\n",
    "    - grass/browse\n",
    "- review g vs kg\n",
    "\n",
    "Problems\n",
    "- (fixed) code doesn't terminate if fat hits fatmax \n",
    "- (fixed) only 4 successes, even over 9000s\n",
    "- (fixed)fat keeps accumulating even with those 4 successes\n",
    "- (fixed)time and starvation death slightly out of sync. fix in \"update compartments\" \n",
    "- (fixed) lol resource distribution input is gabage\n",
    "- some very large time outputs are produced. why?\n",
    "    - distance to next res maxed out around 4 over 100,000,000 draws\n",
    "    - looks like product of very low mean draws for disance and relationship to variance, might need very low variance for these cases to not have time blow up\n",
    "\n",
    "Notes\n",
    "- might be able to speed up by not regenerating distributions \n"
   ]
  },
  {
   "cell_type": "code",
   "execution_count": 37,
   "metadata": {},
   "outputs": [
    {
     "name": "stderr",
     "output_type": "stream",
     "text": [
      "┌ Info: Recompiling stale cache file /home/taran/.julia/compiled/v1.0/RCall/8GFyb.ji for RCall [6f49c342-dc21-5d91-9882-a32aef131414]\n",
      "└ @ Base loading.jl:1184\n"
     ]
    },
    {
     "data": {
      "text/plain": [
       "find_nearest_resource (generic function with 2 methods)"
      ]
     },
     "execution_count": 37,
     "metadata": {},
     "output_type": "execute_result"
    }
   ],
   "source": [
    "using Distributed\n",
    "using DataFrames\n",
    "using RCall\n",
    "@everywhere using SharedArrays\n",
    "@everywhere using Distributions\n",
    "@everywhere using LinearAlgebra\n",
    "\n",
    "include(\"./resource_functions.jl\") # functions for the resource landscape\n",
    "include(\"./consumer_functions.jl\") # functions for the consumer dynamics\n",
    "include(\"./intake_model_functions.jl\") # functions for the consumer dynamics\n",
    "\n",
    "    "
   ]
  },
  {
   "cell_type": "code",
   "execution_count": 23,
   "metadata": {},
   "outputs": [],
   "source": [
    "using Random\n",
    "Random.seed!(42);"
   ]
  },
  {
   "cell_type": "code",
   "execution_count": 24,
   "metadata": {},
   "outputs": [],
   "source": [
    "number_resources = 2;\n",
    "target_values = [0.0, 0.25, 0.5, 0.75, 1.0]; \n",
    "strategy_id = repeat(collect(1:number_resources), inner=(length(target_values), 1));\n",
    "target_weight = repeat(target_values, outer=(number_resources, 1));\n",
    "strategy_info = Tuple([strategy_id, target_weight]);\n"
   ]
  },
  {
   "cell_type": "code",
   "execution_count": 25,
   "metadata": {},
   "outputs": [
    {
     "data": {
      "text/plain": [
       "2-element Array{Float64,1}:\n",
       " 16.7\n",
       " 16.7"
      ]
     },
     "execution_count": 25,
     "metadata": {},
     "output_type": "execute_result"
    }
   ],
   "source": [
    "configurations = 20;\n",
    "\n",
    "t = 0;   #[s]\n",
    "t_max = 100000; # 2629800s in a month\n",
    "\n",
    "species_list = [10.0, 100.0, 1000.0, 10000.0, 100000.0];\n",
    "number_species = length(species_list);\n",
    "\n",
    "#mouth = 0;\n",
    "#mouth_max = 10;   #[g]\n",
    "\n",
    "#gut = 11;\n",
    "#gut_fill_max = 1000;  #[g]\n",
    "\n",
    "\n",
    "\n",
    "\n",
    "\n",
    "#fat = 10;\n",
    "#fat_max = 100000;   #[g]\n",
    "\n",
    "#velocity = 1.0;   #[m/s]\n",
    "\n",
    "at_food = false;\n",
    "cropping = false;\n",
    "chewing = false;\n",
    "\n",
    "alpha = [1.0, 1.5]; # [g/s]\n",
    "beta = 1.0;         # [g/s]\n",
    "gamma = 0.01;        # [g/s]\n",
    "rates = [alpha, beta, gamma];\n",
    "\n",
    "#basal = 0.001      #[kj/s]\n",
    "#field = 0.01;     #[kj/s]\n",
    "\n",
    "num_succ = 0;\n",
    "\n",
    "\n",
    "# first pass RLB plant data suggested 0.1-0.3 kgC/m2yr\n",
    "# experiment with monthly productivity as mean 8.3-25 g/m2month\n",
    "resource_gain = [16.7, 16.7]\n",
    "#resource_stats =  [[2.0 3.0]; [2.0 10.0]]; # [[resource means]; [variances]]"
   ]
  },
  {
   "cell_type": "code",
   "execution_count": 26,
   "metadata": {},
   "outputs": [],
   "source": [
    "# grass, browse\n",
    "# justify pure forest and pure grassland distrib\n",
    "resource_scenarios = [[[0.1 25.0]; [0.2 30.0]],\n",
    "                     [[8.0 17.0]; [10.0 20.0]],\n",
    "                     [[17.0 8.0]; [20.0 10.0]],\n",
    "                     [[25.0 0.1]; [30.0 0.2]]];\n",
    "\n",
    "[0.1, 8.0, 17.0, 25.0]"
   ]
  },
  {
   "cell_type": "code",
   "execution_count": 27,
   "metadata": {},
   "outputs": [],
   "source": [
    "len = 1000000\n",
    "check_array = zeros(Float64, len)\n",
    "for i in 1:len\n",
    "    blep, distance = forage(1, 0.5, 1, [[0.1 25.0]; [0.2 30.0]])\n",
    "    #velocity = find_velocity(species_list[species]);\n",
    "    #travel_time = distance/velocity;\n",
    "    check_array[i]=distance\n",
    "    end"
   ]
  },
  {
   "cell_type": "code",
   "execution_count": 30,
   "metadata": {},
   "outputs": [],
   "source": [
    "# scenarios, data, species\n",
    "species_data = zeros(Float64, 4, 6, length(strategy_id), number_species)\n",
    "\n",
    "# loop through body masses\n",
    "for species in 1:number_species\n",
    "    strat_data = zeros(Float64, length(strategy_id), 6); # init array for storing data by config\n",
    "\n",
    "    mouth_max = bite_size_allo(species_list[species], \"graze\"); # [g]\n",
    "    gut_fill_max = gut_volume_g(species_list[species], \"rumen foregut\")\n",
    "    velocity = find_velocity(species_list[species]);\n",
    "    initial_energy_state, basal, field, fat_max = find_metabolism(species_list[species]);\n",
    "    costs = [basal, field];\n",
    "    \n",
    "    \n",
    "for scenario in 1:length(resource_scenarios)\n",
    "    resource_stats = resource_scenarios[scenario]\n",
    "    \n",
    "    \n",
    "    \n",
    "# loop through strategies\n",
    "for target in 1:length(strategy_id)\n",
    "    \n",
    "config_data = zeros(Float64, configurations, 6); # init array for storing data by config\n",
    "\n",
    "# loop through configurations\n",
    "for config = 1:configurations  # loop from 1:10\n",
    "\n",
    "#target=1;\n",
    "t=0;\n",
    "num_succ = [0,0];\n",
    "at_food = false;\n",
    "cropping = false;\n",
    "chewing = false;\n",
    "\n",
    "mouth = 0;  #[g]\n",
    "gut = 100;   #[g]\n",
    "fat = initial_energy_state;   #[g]\n",
    "        \n",
    "chosen_resource = 0;\n",
    "\n",
    "###\n",
    "#1 while there is time left in the day\n",
    "while t <= t_max #&& fat >= 0\n",
    "    \n",
    "    ### ###\n",
    "    #2 if you're hungry\n",
    "    #if gut <= gut_fill_max && fat <= fat_max  \n",
    "        \n",
    "        # if you're not at some food\n",
    "        if at_food == false;\n",
    "            # selects a resource to go after\n",
    "            chosen_resource, distance = forage(strategy_id, target_weight, target, \n",
    "                resource_stats);\n",
    "            travel_time = distance/velocity; \n",
    "            # move to the food\n",
    "            mouth, gut, fat = update_compartments(travel_time, mouth, gut,\n",
    "                fat, rates,costs, resource_gain; travelling=true)\n",
    "            t += travel_time;\n",
    "            at_food = true;\n",
    "                    \n",
    "                if fat <= 0\n",
    "                    break\n",
    "                end\n",
    "                    \n",
    "        end\n",
    "        \n",
    "        ### ### ###\n",
    "        #3 if mouth isn't full and you're not chewing and you're at some food\n",
    "        if mouth < mouth_max &&  chewing == false && at_food == true  # crop some food\n",
    "                    \n",
    "            mouth, gut, fat = update_compartments((1/alpha[chosen_resource]), \n",
    "                mouth, gut, fat, rates,costs, resource_gain; cropping=true, resource=chosen_resource)\n",
    "            \n",
    "            num_succ[chosen_resource] += 1\n",
    "            t += (1/alpha[chosen_resource])\n",
    "            at_food = false;\n",
    "                    \n",
    "                    if fat <= 0\n",
    "                    break\n",
    "                end\n",
    "                    \n",
    "        end\n",
    "        \n",
    "        # if you're mouth is full but not chewing\n",
    "        if mouth >= mouth_max && chewing == false \n",
    "                    \n",
    "                mouth = mouth_max;\n",
    "                chewing = true # start chewing\n",
    "        end\n",
    "        \n",
    "        \n",
    "        if chewing == true && mouth > beta # if you are currently chewing   \n",
    "            mouth, gut, fat = update_compartments((1/beta), mouth, \n",
    "                gut, fat, rates,costs, resource_gain; chewing=true)\n",
    "            t += (1/beta);\n",
    "                    \n",
    "                if fat <= 0\n",
    "                    break\n",
    "                end\n",
    "                    \n",
    "        end\n",
    "        if chewing == true && mouth <= beta\n",
    "                chewing = false\n",
    "            \n",
    "            end #3 end of if mouth isn't full and you're not chewing\n",
    "        ### ### ###\n",
    "                        \n",
    "        #end #2 end of if you're not hungry\n",
    "        ### ###    \n",
    "        \n",
    "                    \n",
    "        # add note on why this was necessary\n",
    "        mouth, gut, fat = update_compartments(1, mouth, \n",
    "                gut, fat, rates,costs, resource_gain)\n",
    "        \n",
    "        if fat <= 0\n",
    "                    break\n",
    "                end\n",
    "                \n",
    "        t += 1.0;\n",
    "            \n",
    "    end  #1 end bout (while t<tmax_bout )\n",
    "    ###\n",
    "        \n",
    "        \n",
    "    config_data[config,1] = t;\n",
    "    config_data[config,2] = num_succ[1];\n",
    "    config_data[config,3] = num_succ[2];\n",
    "    config_data[config,4] = mouth;\n",
    "    config_data[config,5] = gut;\n",
    "    config_data[config,6] = fat;\n",
    "    \n",
    "    end\n",
    "# end loop through body configs\n",
    "    #strat_data[target, 1] = mean(config_data)\n",
    "    strat_data[target,1] = mean(config_data[:,1])\n",
    "    strat_data[target,2] = mean(config_data[:,2])\n",
    "    strat_data[target,3] = mean(config_data[:,3])\n",
    "    strat_data[target,4] = mean(config_data[:,4])\n",
    "    strat_data[target,5] = mean(config_data[:,5])\n",
    "    strat_data[target,6] = mean(config_data[:,6])\n",
    "\n",
    "    species_data[scenario,1,target, species] = strat_data[target,1]\n",
    "    species_data[scenario,2,target, species] = strat_data[target,2]\n",
    "    species_data[scenario,3,target, species] = strat_data[target,3]\n",
    "    species_data[scenario,4,target, species] = strat_data[target,4]\n",
    "    species_data[scenario,5,target, species] = strat_data[target,5]\n",
    "    species_data[scenario,6,target, species] = strat_data[target,6]\n",
    "            \n",
    "    end # end loop through strategies\n",
    "        \n",
    "    \n",
    "        \n",
    "        \n",
    "        end # end loop through resource scenarios\n",
    "\n",
    "   \n",
    "    \n",
    "\n",
    "    end #loop through masses\n",
    "# if [row, colum]\n",
    "\n",
    "# time, graze, browse, mouth, gut, fat"
   ]
  },
  {
   "cell_type": "code",
   "execution_count": 31,
   "metadata": {},
   "outputs": [],
   "source": [
    "# scenarios, data, strategies, species\n",
    "species_data;"
   ]
  },
  {
   "cell_type": "code",
   "execution_count": 32,
   "metadata": {},
   "outputs": [],
   "source": [
    "plotting_data = zeros(Float64, 4, 2, number_species); \n",
    "\n",
    "for scene in 1:4\n",
    "    for datum in 1:2\n",
    "        for species in 1:number_species\n",
    "            \n",
    "            plotting_data[scene,datum,species]=mean(species_data[scene,datum+1,:,species])\n",
    "            \n",
    "        end\n",
    "    end\n",
    "end"
   ]
  },
  {
   "cell_type": "code",
   "execution_count": 34,
   "metadata": {},
   "outputs": [
    {
     "name": "stderr",
     "output_type": "stream",
     "text": [
      "┌ Warning: `insert!(df::DataFrame, col_ind::Int, item, name::Symbol; makeunique::Bool=false)` is deprecated, use `insertcols!(df, col_ind, name => item; makeunique=makeunique)` instead.\n",
      "│   caller = top-level scope at In[34]:13\n",
      "└ @ Core In[34]:13\n",
      "┌ Warning: `insert!(df::DataFrame, col_ind::Int, item, name::Symbol; makeunique::Bool=false)` is deprecated, use `insertcols!(df, col_ind, name => item; makeunique=makeunique)` instead.\n",
      "│   caller = top-level scope at In[34]:15\n",
      "└ @ Core In[34]:15\n",
      "┌ Warning: `insert!(df::DataFrame, col_ind::Int, item, name::Symbol; makeunique::Bool=false)` is deprecated, use `insertcols!(df, col_ind, name => item; makeunique=makeunique)` instead.\n",
      "│   caller = top-level scope at In[34]:16\n",
      "└ @ Core In[34]:16\n",
      "┌ Warning: `insert!(df::DataFrame, col_ind::Int, item, name::Symbol; makeunique::Bool=false)` is deprecated, use `insertcols!(df, col_ind, name => item; makeunique=makeunique)` instead.\n",
      "│   caller = top-level scope at In[34]:17\n",
      "└ @ Core In[34]:17\n",
      "┌ Warning: `insert!(df::DataFrame, col_ind::Int, item, name::Symbol; makeunique::Bool=false)` is deprecated, use `insertcols!(df, col_ind, name => item; makeunique=makeunique)` instead.\n",
      "│   caller = top-level scope at In[34]:18\n",
      "└ @ Core In[34]:18\n",
      "┌ Warning: `insert!(df::DataFrame, col_ind::Int, item, name::Symbol; makeunique::Bool=false)` is deprecated, use `insertcols!(df, col_ind, name => item; makeunique=makeunique)` instead.\n",
      "│   caller = top-level scope at In[34]:19\n",
      "└ @ Core In[34]:19\n",
      "┌ Warning: `insert!(df::DataFrame, col_ind::Int, item, name::Symbol; makeunique::Bool=false)` is deprecated, use `insertcols!(df, col_ind, name => item; makeunique=makeunique)` instead.\n",
      "│   caller = top-level scope at In[34]:21\n",
      "└ @ Core In[34]:21\n",
      "┌ Warning: `insert!(df::DataFrame, col_ind::Int, item, name::Symbol; makeunique::Bool=false)` is deprecated, use `insertcols!(df, col_ind, name => item; makeunique=makeunique)` instead.\n",
      "│   caller = top-level scope at In[34]:22\n",
      "└ @ Core In[34]:22\n",
      "┌ Warning: `insert!(df::DataFrame, col_ind::Int, item, name::Symbol; makeunique::Bool=false)` is deprecated, use `insertcols!(df, col_ind, name => item; makeunique=makeunique)` instead.\n",
      "│   caller = top-level scope at In[34]:23\n",
      "└ @ Core In[34]:23\n",
      "┌ Warning: `insert!(df::DataFrame, col_ind::Int, item, name::Symbol; makeunique::Bool=false)` is deprecated, use `insertcols!(df, col_ind, name => item; makeunique=makeunique)` instead.\n",
      "│   caller = top-level scope at In[34]:24\n",
      "└ @ Core In[34]:24\n"
     ]
    }
   ],
   "source": [
    "# restructure the data for basic plotting\n",
    "# categorical heatmap with x=scenarios, y=equid_spp, color being proportion graze in diet\n",
    "# (done) need to collapse the strategies \n",
    "# make Julia dataframe\n",
    "# convert to R dataframe\n",
    "# visualize in heatmap\n",
    "\n",
    "df1 = convert(DataFrame, plotting_data[:,:,1]);\n",
    "df2 = convert(DataFrame, plotting_data[:,:,2]);\n",
    "df3 = convert(DataFrame, plotting_data[:,:,3]);\n",
    "df4 = convert(DataFrame, plotting_data[:,:,4]);\n",
    "df5 = convert(DataFrame, plotting_data[:,:,5]);\n",
    "\n",
    "insert!(df1, 3, [\"10kg\",\"10kg\",\"10kg\",\"10kg\",], :Species);\n",
    "insert!(df2, 3, [\"100kg\",\"100kg\",\"100kg\",\"100kg\",], :Species);\n",
    "insert!(df3, 3, [\"1000kg\",\"1000kg\",\"1000kg\",\"1000kg\",], :Species);\n",
    "insert!(df4, 3, [\"10000kg\",\"10000kg\",\"10000kg\",\"10000kg\",], :Species);\n",
    "insert!(df5, 3, [\"100000kg\",\"100000kg\",\"100000kg\",\"100000kg\",], :Species);\n",
    "\n",
    "insert!(df1, 4, [\"forest\",\"shrubland\",\"savanna\",\"grassland\",], :Scenario);\n",
    "insert!(df2, 4, [\"forest\",\"shrubland\",\"savanna\",\"grassland\",], :Scenario);\n",
    "insert!(df3, 4, [\"forest\",\"shrubland\",\"savanna\",\"grassland\",], :Scenario);\n",
    "insert!(df4, 4, [\"forest\",\"shrubland\",\"savanna\",\"grassland\",], :Scenario);\n",
    "insert!(df5, 4, [\"forest\",\"shrubland\",\"savanna\",\"grassland\",], :Scenario);\n",
    "\n",
    "\n",
    "\n",
    "append!(df1,df2);\n",
    "append!(df3, df4);\n",
    "append!(df1, df3);\n",
    "append!(df1, df5);"
   ]
  },
  {
   "cell_type": "code",
   "execution_count": 35,
   "metadata": {},
   "outputs": [],
   "source": [
    "df = copy(df1);\n"
   ]
  },
  {
   "cell_type": "code",
   "execution_count": null,
   "metadata": {},
   "outputs": [],
   "source": [
    "forest = df[[1,5,9,13,17], :]\n",
    "shrubland= df[[2,6,10,14,18],:];\n",
    "savanna= df[[3,7,11,15,19],:];\n",
    "grassland=df[[4,8,12,16,20],:];"
   ]
  },
  {
   "cell_type": "code",
   "execution_count": 68,
   "metadata": {},
   "outputs": [],
   "source": [
    "forest_graze = forest[:,1];\n",
    "shrubland_graze = shrubland[:,1];\n",
    "savanna_graze = savanna[:,1];\n",
    "grassland_graze = grassland[:,1];"
   ]
  },
  {
   "cell_type": "code",
   "execution_count": 111,
   "metadata": {},
   "outputs": [],
   "source": [
    "matrix = zeros(Float64, number_species, 4);\n",
    "matrix[:,1] = forest_graze;\n",
    "matrix[:,2] = shrubland_graze;\n",
    "matrix[:,3] = savanna_graze;\n",
    "matrix[:,4] = grassland_graze;"
   ]
  },
  {
   "cell_type": "code",
   "execution_count": 106,
   "metadata": {},
   "outputs": [
    {
     "data": {
      "text/plain": [
       "5×4 Array{Float64,2}:\n",
       "  0.185     0.435      0.59      0.72\n",
       "  0.175     0.48       0.59      0.76\n",
       " 35.81   7780.14   13036.8   14187.5 \n",
       " 29.58   7551.89   12229.0   13155.2 \n",
       " 27.7    7977.81   12567.7   13551.5 "
      ]
     },
     "execution_count": 106,
     "metadata": {},
     "output_type": "execute_result"
    }
   ],
   "source": [
    "matrix"
   ]
  },
  {
   "cell_type": "code",
   "execution_count": 113,
   "metadata": {},
   "outputs": [
    {
     "data": {
      "text/plain": [
       "4-element Array{Float64,1}:\n",
       " 0.185              \n",
       " 0.43500000000000005\n",
       " 0.59               \n",
       " 0.72               "
      ]
     },
     "execution_count": 113,
     "metadata": {},
     "output_type": "execute_result"
    }
   ],
   "source": [
    "matrix[1,:]"
   ]
  },
  {
   "cell_type": "code",
   "execution_count": 121,
   "metadata": {},
   "outputs": [
    {
     "ename": "LoadError",
     "evalue": "syntax: unexpected \";\"",
     "output_type": "error",
     "traceback": [
      "syntax: unexpected \";\"",
      ""
     ]
    }
   ],
   "source": [
    "#namepath = \n",
    "#xvec=;\n",
    "#yvec=;\n",
    "m=matrix;\n"
   ]
  },
  {
   "cell_type": "code",
   "execution_count": 149,
   "metadata": {},
   "outputs": [
    {
     "data": {
      "image/png": "[encoded data removed]"
     },
     "metadata": {},
     "output_type": "display_data"
    },
    {
     "data": {
      "text/plain": [
       "RObject{NilSxp}\n",
       "NULL\n"
      ]
     },
     "execution_count": 149,
     "metadata": {},
     "output_type": "execute_result"
    }
   ],
   "source": [
    "R\"\"\"\n",
    "body_sizes <- c(\"10kg\", \"100kg\", \"1000kg\", \"10000kg\", \"100000kg\")\n",
    "scenarios <- c(\"forest\", \"shrubland\", \"savanna\", \"grassland\")\n",
    "library(RColorBrewer)\n",
    "pal<-brewer.pal(11,\"Spectral\")\n",
    "#image(z=($m))\n",
    "#heatmap($m, scale=\"row\", labRow=paste(body_sizes,sep=\"\"), labCol=paste(scenarios,sep=\"\"))\n",
    "image(x=log($(species_list)), y=c(0.1, 8.0, 17.0, 25.0), z=$(m))\n",
    "\"\"\""
   ]
  },
  {
   "cell_type": "code",
   "execution_count": 36,
   "metadata": {},
   "outputs": [
    {
     "data": {
      "text/html": [
       "<table class=\"data-frame\"><thead><tr><th></th><th>x1</th><th>x2</th><th>Species</th><th>Scenario</th></tr><tr><th></th><th>Float64</th><th>Float64</th><th>String</th><th>String</th></tr></thead><tbody><p>20 rows × 4 columns</p><tr><th>1</th><td>0.185</td><td>0.735</td><td>10kg</td><td>forest</td></tr><tr><th>2</th><td>0.435</td><td>0.565</td><td>10kg</td><td>shrubland</td></tr><tr><th>3</th><td>0.59</td><td>0.41</td><td>10kg</td><td>savanna</td></tr><tr><th>4</th><td>0.72</td><td>0.21</td><td>10kg</td><td>grassland</td></tr><tr><th>5</th><td>0.175</td><td>0.75</td><td>100kg</td><td>forest</td></tr><tr><th>6</th><td>0.48</td><td>0.52</td><td>100kg</td><td>shrubland</td></tr><tr><th>7</th><td>0.59</td><td>0.41</td><td>100kg</td><td>savanna</td></tr><tr><th>8</th><td>0.76</td><td>0.15</td><td>100kg</td><td>grassland</td></tr><tr><th>9</th><td>35.81</td><td>15407.5</td><td>1000kg</td><td>forest</td></tr><tr><th>10</th><td>7780.14</td><td>13583.2</td><td>1000kg</td><td>shrubland</td></tr><tr><th>11</th><td>13036.8</td><td>7823.91</td><td>1000kg</td><td>savanna</td></tr><tr><th>12</th><td>14187.5</td><td>32.485</td><td>1000kg</td><td>grassland</td></tr><tr><th>13</th><td>29.58</td><td>12821.9</td><td>10000kg</td><td>forest</td></tr><tr><th>14</th><td>7551.89</td><td>11947.4</td><td>10000kg</td><td>shrubland</td></tr><tr><th>15</th><td>12229.0</td><td>7535.18</td><td>10000kg</td><td>savanna</td></tr><tr><th>16</th><td>13155.2</td><td>30.13</td><td>10000kg</td><td>grassland</td></tr><tr><th>17</th><td>27.7</td><td>12114.4</td><td>100000kg</td><td>forest</td></tr><tr><th>18</th><td>7977.81</td><td>11809.3</td><td>100000kg</td><td>shrubland</td></tr><tr><th>19</th><td>12567.7</td><td>7804.14</td><td>100000kg</td><td>savanna</td></tr><tr><th>20</th><td>13551.5</td><td>31.31</td><td>100000kg</td><td>grassland</td></tr></tbody></table>"
      ],
      "text/latex": [
       "\\begin{tabular}{r|cccc}\n",
       "\t& x1 & x2 & Species & Scenario\\\\\n",
       "\t\\hline\n",
       "\t& Float64 & Float64 & String & String\\\\\n",
       "\t\\hline\n",
       "\t1 & 0.185 & 0.735 & 10kg & forest \\\\\n",
       "\t2 & 0.435 & 0.565 & 10kg & shrubland \\\\\n",
       "\t3 & 0.59 & 0.41 & 10kg & savanna \\\\\n",
       "\t4 & 0.72 & 0.21 & 10kg & grassland \\\\\n",
       "\t5 & 0.175 & 0.75 & 100kg & forest \\\\\n",
       "\t6 & 0.48 & 0.52 & 100kg & shrubland \\\\\n",
       "\t7 & 0.59 & 0.41 & 100kg & savanna \\\\\n",
       "\t8 & 0.76 & 0.15 & 100kg & grassland \\\\\n",
       "\t9 & 35.81 & 15407.5 & 1000kg & forest \\\\\n",
       "\t10 & 7780.14 & 13583.2 & 1000kg & shrubland \\\\\n",
       "\t11 & 13036.8 & 7823.91 & 1000kg & savanna \\\\\n",
       "\t12 & 14187.5 & 32.485 & 1000kg & grassland \\\\\n",
       "\t13 & 29.58 & 12821.9 & 10000kg & forest \\\\\n",
       "\t14 & 7551.89 & 11947.4 & 10000kg & shrubland \\\\\n",
       "\t15 & 12229.0 & 7535.18 & 10000kg & savanna \\\\\n",
       "\t16 & 13155.2 & 30.13 & 10000kg & grassland \\\\\n",
       "\t17 & 27.7 & 12114.4 & 100000kg & forest \\\\\n",
       "\t18 & 7977.81 & 11809.3 & 100000kg & shrubland \\\\\n",
       "\t19 & 12567.7 & 7804.14 & 100000kg & savanna \\\\\n",
       "\t20 & 13551.5 & 31.31 & 100000kg & grassland \\\\\n",
       "\\end{tabular}\n"
      ],
      "text/plain": [
       "20×4 DataFrame\n",
       "│ Row │ x1      │ x2      │ Species  │ Scenario  │\n",
       "│     │ \u001b[90mFloat64\u001b[39m │ \u001b[90mFloat64\u001b[39m │ \u001b[90mString\u001b[39m   │ \u001b[90mString\u001b[39m    │\n",
       "├─────┼─────────┼─────────┼──────────┼───────────┤\n",
       "│ 1   │ 0.185   │ 0.735   │ 10kg     │ forest    │\n",
       "│ 2   │ 0.435   │ 0.565   │ 10kg     │ shrubland │\n",
       "│ 3   │ 0.59    │ 0.41    │ 10kg     │ savanna   │\n",
       "│ 4   │ 0.72    │ 0.21    │ 10kg     │ grassland │\n",
       "│ 5   │ 0.175   │ 0.75    │ 100kg    │ forest    │\n",
       "│ 6   │ 0.48    │ 0.52    │ 100kg    │ shrubland │\n",
       "│ 7   │ 0.59    │ 0.41    │ 100kg    │ savanna   │\n",
       "│ 8   │ 0.76    │ 0.15    │ 100kg    │ grassland │\n",
       "│ 9   │ 35.81   │ 15407.5 │ 1000kg   │ forest    │\n",
       "│ 10  │ 7780.14 │ 13583.2 │ 1000kg   │ shrubland │\n",
       "│ 11  │ 13036.8 │ 7823.91 │ 1000kg   │ savanna   │\n",
       "│ 12  │ 14187.5 │ 32.485  │ 1000kg   │ grassland │\n",
       "│ 13  │ 29.58   │ 12821.9 │ 10000kg  │ forest    │\n",
       "│ 14  │ 7551.89 │ 11947.4 │ 10000kg  │ shrubland │\n",
       "│ 15  │ 12229.0 │ 7535.18 │ 10000kg  │ savanna   │\n",
       "│ 16  │ 13155.2 │ 30.13   │ 10000kg  │ grassland │\n",
       "│ 17  │ 27.7    │ 12114.4 │ 100000kg │ forest    │\n",
       "│ 18  │ 7977.81 │ 11809.3 │ 100000kg │ shrubland │\n",
       "│ 19  │ 12567.7 │ 7804.14 │ 100000kg │ savanna   │\n",
       "│ 20  │ 13551.5 │ 31.31   │ 100000kg │ grassland │"
      ]
     },
     "execution_count": 36,
     "metadata": {},
     "output_type": "execute_result"
    }
   ],
   "source": [
    "df"
   ]
  },
  {
   "cell_type": "markdown",
   "metadata": {},
   "source": [
    "using Gadfly, RDatasets\n",
    "\n",
    "Gadfly.plot(df, x=\"Scenario\", y=\"Species\", Geom.histogram2d)"
   ]
  },
  {
   "cell_type": "markdown",
   "metadata": {},
   "source": [
    "Gadfly.plot(dataset(\"car\", \"Womenlf\"), x=\"HIncome\", y=\"Region\", Geom.histogram2d)"
   ]
  },
  {
   "cell_type": "code",
   "execution_count": null,
   "metadata": {},
   "outputs": [],
   "source": []
  }
 ],
 "metadata": {
  "@webio": {
   "lastCommId": "4850c4a5cda847f3ab2d6fdd8f1d3540",
   "lastKernelId": "a9093578-70ba-4458-b912-2c0aa2ff24fe"
  },
  "kernelspec": {
   "display_name": "Julia 1.0.0",
   "language": "julia",
   "name": "julia-1.0"
  },
  "language_info": {
   "file_extension": ".jl",
   "mimetype": "application/julia",
   "name": "julia",
   "version": "1.0.0"
  }
 },
 "nbformat": 4,
 "nbformat_minor": 2
}
