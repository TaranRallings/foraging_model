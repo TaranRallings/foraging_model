{
 "cells": [
  {
   "cell_type": "markdown",
   "metadata": {},
   "source": [
    "plants -alpha-> mouth -beta-> stomach -gamma-> fat"
   ]
  },
  {
   "cell_type": "markdown",
   "metadata": {},
   "source": [
    "### intake stuff\n",
    "bite_rate = 0.37*mass^(-0.024)\n",
    "bite_mass = 0.02*mass^(0.969)\n",
    "\n",
    "### mouth processing stuff\n",
    "overall_intake = 0.71*m^(0.70) (g/min) shipley\n",
    "chews_per_gram = 364.97*m^(-0.86) shipley\n",
    "\n",
    "\n",
    "### mps in mm\n",
    "bmass=0.25, t91=6.39 equid mps\n",
    "bmass=0.26, t108=6.61 hindgut mps\n",
    "bmass=0.22, t190=7.74 ruminant mps\n",
    "\n",
    "\n",
    "    \n",
    "digestible_cell_mass= bite_mass * ((100 - ADF) /100); (from elephant trunk paper)\n",
    "\n",
    "grass about 0.8 g/cm3 (and about 80% water by mass)"
   ]
  },
  {
   "cell_type": "markdown",
   "metadata": {},
   "source": [
    "#### Questions\n",
    "What exactly is chewing cycle duration?\n",
    "\n",
    "\n",
    "\n",
    "\n"
   ]
  },
  {
   "cell_type": "markdown",
   "metadata": {},
   "source": [
    "### Alpha"
   ]
  },
  {
   "cell_type": "code",
   "execution_count": 2,
   "metadata": {},
   "outputs": [
    {
     "data": {
      "text/plain": [
       "bite_size_allo (generic function with 1 method)"
      ]
     },
     "execution_count": 2,
     "metadata": {},
     "output_type": "execute_result"
    }
   ],
   "source": [
    "function bite_size_allo(mass, plant)\n",
    "    # from shipley 94 \"the scaling of intake rate\"\n",
    "    # mass in kg\n",
    "    # bite size in g\n",
    "    if plant == \"browse\"\n",
    "        bite_size = (0.057* (mass)^0.63); # [g]\n",
    "        \n",
    "    elseif plant == \"graze\"\n",
    "        bite_size = (0.026 * (mass)^0.59); # [g]\n",
    "        \n",
    "    end\n",
    "    \n",
    "    return bite_size\n",
    "    \n",
    "end"
   ]
  },
  {
   "cell_type": "code",
   "execution_count": 28,
   "metadata": {},
   "outputs": [
    {
     "data": {
      "text/plain": [
       "1.0372294894076906"
      ]
     },
     "execution_count": 28,
     "metadata": {},
     "output_type": "execute_result"
    }
   ],
   "source": [
    "bite_size = bite_size_allo(100.0, \"browse\")"
   ]
  },
  {
   "cell_type": "code",
   "execution_count": 13,
   "metadata": {},
   "outputs": [
    {
     "data": {
      "text/plain": [
       "bite_rate_allo (generic function with 1 method)"
      ]
     },
     "execution_count": 13,
     "metadata": {},
     "output_type": "execute_result"
    }
   ],
   "source": [
    "function bite_rate_allo(mass)\n",
    "    # not sure where from\n",
    "    bite_rate = 0.37 * mass^(-0.024)\n",
    "    \n",
    "    return bite_rate\n",
    "    \n",
    "end\n"
   ]
  },
  {
   "cell_type": "code",
   "execution_count": 29,
   "metadata": {},
   "outputs": [
    {
     "data": {
      "text/plain": [
       "0.33128496325334966"
      ]
     },
     "execution_count": 29,
     "metadata": {},
     "output_type": "execute_result"
    }
   ],
   "source": [
    "bite_rate = bite_rate_allo(100.0)"
   ]
  },
  {
   "cell_type": "code",
   "execution_count": 15,
   "metadata": {},
   "outputs": [
    {
     "data": {
      "text/plain": [
       "5.598563130206413"
      ]
     },
     "execution_count": 15,
     "metadata": {},
     "output_type": "execute_result"
    }
   ],
   "source": [
    "bite_rate * bite_size"
   ]
  },
  {
   "cell_type": "markdown",
   "metadata": {},
   "source": [
    "### Beta"
   ]
  },
  {
   "cell_type": "code",
   "execution_count": 18,
   "metadata": {},
   "outputs": [
    {
     "data": {
      "text/plain": [
       "number_of_chews (generic function with 1 method)"
      ]
     },
     "execution_count": 18,
     "metadata": {},
     "output_type": "execute_result"
    }
   ],
   "source": [
    "function number_of_chews(mass)\n",
    "    #chew/g (processed to mean particle size (allo) and swallowed)\n",
    "    # shipley 94\n",
    "    chews_per_gram = 364.97* mass^(-0.86);\n",
    "    \n",
    "    return chews_per_gram\n",
    "    \n",
    "end"
   ]
  },
  {
   "cell_type": "code",
   "execution_count": 19,
   "metadata": {},
   "outputs": [
    {
     "data": {
      "text/plain": [
       "chew_rate_allo (generic function with 1 method)"
      ]
     },
     "execution_count": 19,
     "metadata": {},
     "output_type": "execute_result"
    }
   ],
   "source": [
    "function chew_rate_allo(mass, teeth)\n",
    "    # from \"dental functional morphology predicts scaling\"\n",
    "    # mass in kg\n",
    "    # duration in ms\n",
    "    if teeth == \"bunodont\"\n",
    "        chewing_cycle_duration = (228.0* (mass)^0.246) / 1000; # 2.358 [ms -> s]\n",
    "        \n",
    "    elseif teeth == \"acute/obtuse lophs\"\n",
    "        chewing_cycle_duration = (299.2 * (mass)^0.173) / 1000; # 2.476 [ms -> s]\n",
    "        \n",
    "    elseif teeth == \"lophs and non-flat\"\n",
    "        chewing_cycle_duration = (320.6 * (mass)^0.154) / 1000; # 2.506 [ms -> s]\n",
    "        \n",
    "    elseif teeth == \"lophs and flat\"\n",
    "        chewing_cycle_duration = (262.4* (mass)^0.207) / 1000; # 2.419 [ms -> s]0\n",
    "        \n",
    "    end\n",
    "    \n",
    "    return 1 / (chewing_cycle_duration )  #[s/chew -> chews/s]\n",
    "    \n",
    "end\n"
   ]
  },
  {
   "cell_type": "code",
   "execution_count": 23,
   "metadata": {},
   "outputs": [
    {
     "data": {
      "text/plain": [
       "1.5347459004412067"
      ]
     },
     "execution_count": 23,
     "metadata": {},
     "output_type": "execute_result"
    }
   ],
   "source": [
    "chew_rate = chew_rate_allo(100.0, \"lophs and non-flat\") "
   ]
  },
  {
   "cell_type": "code",
   "execution_count": 24,
   "metadata": {},
   "outputs": [
    {
     "data": {
      "text/plain": [
       "6.954359982350464"
      ]
     },
     "execution_count": 24,
     "metadata": {},
     "output_type": "execute_result"
    }
   ],
   "source": [
    "chews_per_gram = number_of_chews(100.0)"
   ]
  },
  {
   "cell_type": "code",
   "execution_count": 25,
   "metadata": {},
   "outputs": [
    {
     "data": {
      "text/plain": [
       "0.2206883026383812"
      ]
     },
     "execution_count": 25,
     "metadata": {},
     "output_type": "execute_result"
    }
   ],
   "source": [
    "beta = chew_rate / chews_per_gram"
   ]
  },
  {
   "cell_type": "markdown",
   "metadata": {},
   "source": [
    "### Gamma"
   ]
  },
  {
   "cell_type": "code",
   "execution_count": 54,
   "metadata": {},
   "outputs": [
    {
     "data": {
      "text/plain": [
       "mean_retention_time (generic function with 1 method)"
      ]
     },
     "execution_count": 54,
     "metadata": {},
     "output_type": "execute_result"
    }
   ],
   "source": [
    "function mean_retention_time(mass, gut_type)\n",
    "    # mean retention of a particle in the gut [s]\n",
    "    \n",
    "    \n",
    "    if gut_type == \"caecum\"\n",
    "        mean_retention_time = (23.6 * (mass)^0.24) \n",
    "        \n",
    "    elseif gut_type == \"colon\"\n",
    "        mean_retention_time = (34.2 * (mass)^0.04)\n",
    "        \n",
    "    elseif gut_type == \"non-rumen foregut\"\n",
    "        mean_retention_time = (34.7 * (mass)^0.08)\n",
    "        \n",
    "    elseif gut_type == \"rumen foregut\"\n",
    "        mean_retention_time = (24.7 * (mass)^0.13)\n",
    "        \n",
    "    end\n",
    "    \n",
    "    return mean_retention_time * 60 * 60 # [hr -> s]\n",
    "    \n",
    "end\n",
    "\n",
    "\n"
   ]
  },
  {
   "cell_type": "code",
   "execution_count": 55,
   "metadata": {},
   "outputs": [
    {
     "data": {
      "text/plain": [
       "161807.80034759972"
      ]
     },
     "execution_count": 55,
     "metadata": {},
     "output_type": "execute_result"
    }
   ],
   "source": [
    "mean_retention_time(100.0, \"rumen foregut\")"
   ]
  },
  {
   "cell_type": "code",
   "execution_count": 51,
   "metadata": {},
   "outputs": [
    {
     "data": {
      "text/plain": [
       "gut_volume_g (generic function with 1 method)"
      ]
     },
     "execution_count": 51,
     "metadata": {},
     "output_type": "execute_result"
    }
   ],
   "source": [
    "function gut_volume_g(mass, gut_type)\n",
    "    # from \"case of nonscaling\"\n",
    "    # wet mass of guts in kg\n",
    "    # bm in kg\n",
    "    \n",
    "    if gut_type == \"caecum\"\n",
    "        capacity = (0.102* (mass)^1.05); \n",
    "        \n",
    "    elseif gut_type == \"colon\"\n",
    "        capacity = (0.117 * (mass)^1.03);\n",
    "        \n",
    "    elseif gut_type == \"non-rumen foregut\"\n",
    "        capacity = (0.100 * (mass)^1.11);\n",
    "        \n",
    "    elseif gut_type == \"rumen foregut\"\n",
    "        capacity = (0.114 * (mass)^1.05);\n",
    "        \n",
    "    end\n",
    "    \n",
    "    return capacity * 1000 #[kg -> g]\n",
    "    \n",
    "end\n",
    "\n"
   ]
  },
  {
   "cell_type": "code",
   "execution_count": 34,
   "metadata": {},
   "outputs": [
    {
     "data": {
      "text/plain": [
       "mean_particle_mass (generic function with 1 method)"
      ]
     },
     "execution_count": 34,
     "metadata": {},
     "output_type": "execute_result"
    }
   ],
   "source": [
    "function mean_particle_mass(mass, gut_type)\n",
    "    # from \"comparative chewing efficiency\"\n",
    "    # mean particle size in mm \n",
    "    # mass in g \n",
    "    \n",
    "    if gut_type == \"rumen foregut\" # ruminant\n",
    "        mean_particle_size = (7.74 * (mass)^0.22) \n",
    "        \n",
    "    elseif gut_type == \"colon\" # hindgut\n",
    "        mean_particle_size = (6.61 * (mass)^0.26)\n",
    "        \n",
    "        else print(\"what are these guts?\")\n",
    "    \n",
    "    end\n",
    "    \n",
    "    volume = (4/3) * pi * (1/2 * mean_particle_size)^3; # [mm^3]\n",
    "    particle_mass = 0.0004 * volume; # [g/mm^3 * mm^3 = g]\n",
    "    \n",
    "    return particle_mass\n",
    "    \n",
    "end\n"
   ]
  },
  {
   "cell_type": "code",
   "execution_count": 36,
   "metadata": {},
   "outputs": [],
   "source": [
    "particle_mass = mean_particle_mass(100.0, \"rumen foregut\"); # [g]\n",
    "retention_time = mean_retention_time(100.0, \"rumen foregut\"); # [s]"
   ]
  },
  {
   "cell_type": "code",
   "execution_count": 37,
   "metadata": {},
   "outputs": [
    {
     "data": {
      "text/plain": [
       "2.0289974241423545"
      ]
     },
     "execution_count": 37,
     "metadata": {},
     "output_type": "execute_result"
    }
   ],
   "source": [
    "particle_mass"
   ]
  },
  {
   "cell_type": "code",
   "execution_count": 38,
   "metadata": {},
   "outputs": [
    {
     "data": {
      "text/plain": [
       "161807.80034759972"
      ]
     },
     "execution_count": 38,
     "metadata": {},
     "output_type": "execute_result"
    }
   ],
   "source": [
    "retention_time"
   ]
  },
  {
   "cell_type": "code",
   "execution_count": 2,
   "metadata": {},
   "outputs": [
    {
     "data": {
      "text/plain": [
       "outflow_rate (generic function with 1 method)"
      ]
     },
     "execution_count": 2,
     "metadata": {},
     "output_type": "execute_result"
    }
   ],
   "source": [
    "function outflow_rate(gut_fill, mrt)\n",
    "    # function to capture processing rate of gut\n",
    "    # gut_fill [g], mrt [s]\n",
    "    gamma = gut_fill/mrt #[g/s]\n",
    "    return gamma\n",
    "end"
   ]
  },
  {
   "cell_type": "code",
   "execution_count": 41,
   "metadata": {},
   "outputs": [
    {
     "data": {
      "text/plain": [
       "find_metabolism (generic function with 1 method)"
      ]
     },
     "execution_count": 41,
     "metadata": {},
     "output_type": "execute_result"
    }
   ],
   "source": [
    "function find_metabolism(mass)\n",
    "    # find a source for this \n",
    "    # mass in kg\n",
    "    \n",
    "    \n",
    "    mass_g = mass * 1000;\n",
    "# function for setting initial energy and metabolic costs from body mass\n",
    "    #Joules per gram\n",
    "    joules_per_gram = 20000; #varies between 7000 to 36000 [int] [J/g]\n",
    "    kjoules_per_gram = joules_per_gram / 1000;   # [int/int=int] [kJ/g]  \n",
    "    \n",
    "    initial_energy_state = mass_g * kjoules_per_gram;\n",
    "    \n",
    "    #mass at which you die, no fat or muscle\n",
    "    mass_starve = round(mass - ((0.02 * mass_g^1.19) + (0.1 * 0.38 * mass_g^1.0)));  \n",
    "    \n",
    "    \n",
    "    #how many kj units does this organism have?\n",
    "    storage_kj = (mass_g - mass_starve) * kjoules_per_gram; #convert grams to kJ [int-float*int=float] [g-g*kJ/g=kJ]\n",
    "    #xc = 1;\n",
    "    #organismal_max = round(Int, xc + organismal_max_kj - 1); #unchanged if xc = 1, [kJ]\n",
    "\n",
    "    # Metabolic constants for the basal and field metabolic rate\n",
    "    b0_basal_met_rate = 0.018; #[watts] g^-0.75, \n",
    "    b0_field_met_rate = 0.047; #[watts] g^-0.75,\n",
    " \n",
    "    #costs: f/df + sleeping over active hours\n",
    "    cost_wh_basal = (b0_basal_met_rate * (mass_g^0.75)); #watt*hour, cost of basal metabolic rate in watt hours\n",
    "    cost_wh_field = (b0_field_met_rate * (mass_g^0.75)); #watt*hour, cost of field metabolic rate in watt hours\n",
    "\n",
    "    #Convert to kiloJoules\n",
    "    watt_hour_to_kJ = 3.6;  #  [float], [kJ/watthour]\n",
    "\n",
    "    #Convert kjg to 10kjg\n",
    "    watt_hour_to_kJ = watt_hour_to_kJ #/ xscale; # scales conversaion constant by xscale (currently is 1)\n",
    "\n",
    "    #metabolic costs per hour\n",
    "    cost_basal_hr = cost_wh_basal * watt_hour_to_kJ; # [float], [wh*kJ/wh=kJ/hr]\n",
    "    cost_field_hr = cost_wh_field * watt_hour_to_kJ; # [float], [wh*kJ/wh=kJ/hr]\n",
    "\n",
    "    # metabolic costs per second\n",
    "    cost_basal = cost_basal_hr / 60 / 60;   # [float], [kJ/s]\n",
    "    cost_field = cost_field_hr / 60 / 60;   # [float], [kJ/s]\n",
    "    \n",
    "    return initial_energy_state, cost_basal, cost_field, storage_kj\n",
    "    \n",
    "end\n"
   ]
  },
  {
   "cell_type": "code",
   "execution_count": 50,
   "metadata": {},
   "outputs": [
    {
     "data": {
      "text/plain": [
       "(2.0e6, 0.10122143853426284, 0.2643004228394641, 2.4305e6)"
      ]
     },
     "execution_count": 50,
     "metadata": {},
     "output_type": "execute_result"
    }
   ],
   "source": [
    "find_metabolism(100.0)"
   ]
  },
  {
   "cell_type": "code",
   "execution_count": 49,
   "metadata": {},
   "outputs": [
    {
     "data": {
      "text/plain": [
       "0.09234824074074074"
      ]
     },
     "execution_count": 49,
     "metadata": {},
     "output_type": "execute_result"
    }
   ],
   "source": [
    "7978.888 / 24 / 60 / 60"
   ]
  },
  {
   "cell_type": "code",
   "execution_count": null,
   "metadata": {},
   "outputs": [],
   "source": [
    "function update_compartments(t, mouth, gut, fat, rates, costs, resource_gain; \n",
    "        cropping=false, chewing=false, travelling=false, resource=0)\n",
    "    \n",
    "   # function to update compartments with time\n",
    "   # takes: time, current mouth, gut, and fat levels, intake mass\n",
    "    if cropping == true && chewing == false\n",
    "        mouth += alpha[resource];\n",
    "    end\n",
    "        \n",
    "    if cropping==false && chewing == true\n",
    "       if mouth >= (beta)\n",
    "           gut += rates[2] * t;\n",
    "            mouth -= rates[2] * t;\n",
    "        elseif mouth >0 && mouth < beta\n",
    "            mouth -= mouth;\n",
    "            gut += mouth;\n",
    "        end\n",
    "    end\n",
    "        \n",
    "    \n",
    "    if cropping==true && chewing == true\n",
    "        return print(\"you can't chew and crop\")\n",
    "    end\n",
    "    \n",
    "   if gut >0\n",
    "        gut -= min(gut, rates[3]*t);\n",
    "        fat += min(gut, rates[3]*t*16.7); #conversion g -> kj\n",
    "    end\n",
    "  \n",
    "    \n",
    "    if travelling==false\n",
    "        fat -= min(fat, costs[1] * t); # \n",
    "    elseif travelling==true\n",
    "        fat -= min(fat, costs[2] * t); #\n",
    "    end\n",
    "    #elseif fat <= 0\n",
    "        #return print(\"you have died\")\n",
    "    \n",
    "    \n",
    "    return mouth, gut, fat\n",
    "    \n",
    "end"
   ]
  },
  {
   "cell_type": "code",
   "execution_count": null,
   "metadata": {},
   "outputs": [],
   "source": [
    "function catch_food(chosen_resource, num_succ)\n",
    "#Do you catch the food?\n",
    "# will currently always catch food\n",
    "    catch_food = rand();\n",
    "    if catch_food < catch_success[chosen_resource]\n",
    "    #You caught it! Pat yourself on the back\n",
    "                            \n",
    "    # indexing here works, i think, b/c weight of target 1 is 0, so this never \n",
    "    # comes up. If the weighting of target 1 changes, this will break\n",
    "    num_succ[chosen_resource] += 1; \n",
    "    end\n",
    "        return num_succ\n",
    "end \n",
    "      "
   ]
  },
  {
   "cell_type": "code",
   "execution_count": null,
   "metadata": {},
   "outputs": [],
   "source": [
    "function forage(strategy_id, target_weight, target, resource_stats)\n",
    "    # incomplete\n",
    "    let nearest_resource = 0,\n",
    "    #t = 0.0, # start the clock for the day\n",
    "    nearest_distance = 0.0 # init the distance of nearest resource\n",
    "    distances = dist_to_resources(resource_stats);\n",
    "    nearest_distance, nearest_resource = find_nearest_resource(resource_stats, distances)\n",
    "    chosen_resource = which_resource(strategy_id, target_weight, \n",
    "            target, nearest_resource)\n",
    "    chosen_distance = distances[chosen_resource]\n",
    "\n",
    "        return chosen_resource, chosen_distance\n",
    "    end\n",
    "        #return chosen_resource\n",
    "    \n",
    "end"
   ]
  },
  {
   "cell_type": "code",
   "execution_count": null,
   "metadata": {},
   "outputs": [],
   "source": [
    "# checked basic function with res =  [[1 2]; [3 4]; [5 6]]\n",
    "# haven't done full check-expect\n",
    "\n",
    "function resource_selection(strategy_id,target_weight, target, resource_stats)\n",
    "    # pulls distance to resources, nearest resource, and which_res into 1 function call\n",
    "    \n",
    "    dist_to_resource = dist_to_resources(resource_stats);\n",
    "    nearest_distance, nearest_resource = find_nearest_resource(resource_stats, dist_to_resource);\n",
    "    chosen_resource = which_resource(strategy_id, target_weight, target, nearest_resource);\n",
    "    \n",
    "    return chosen_resource, dist_to_resource[chosen_resource]\n",
    "end\n",
    "\n",
    "\n",
    "function which_resource(strategy_id, target_weight, target, nearest_resource)\n",
    "    # chooses between a targeted resource and the nearest resource\n",
    "    # produces single Int value resource (1 or 2)\n",
    "    # weighted coin flip, higher weight, more likely 1\n",
    "    bernouli_dist = Bernoulli(1-target_weight[target]); \n",
    "    draw = rand(bernouli_dist);\n",
    "    \n",
    "    #If we draw a 0, the consumer will move towards the TARGETED RESOURCE\n",
    "    if draw == 0 # if coinflip=0 (more likely if lower weighting)    \n",
    "    # which resource is targeted?\n",
    "    chosen_resource = strategy_id[target];   \n",
    "    \n",
    "    #If we draw a 1, the consumer will move towards the CLOSEST RESOURCE\n",
    "        elseif draw == 1\n",
    "        chosen_resource = nearest_resource  \n",
    "    end\n",
    "    \n",
    "    return chosen_resource #, draw, strategy_id[target]\n",
    "end\n",
    "\n",
    "\n",
    "# function for building list of distances to each resource\n",
    "# produces distances for [res1, res2]\n",
    "function dist_to_resources(resource_stats)\n",
    "    number_resources = length(resource_stats[:,1])\n",
    "#Draw distances to each resource (meters)\n",
    "    gamma_dist = resource_distributions(resource_stats[1,:], resource_stats[2,:]);\n",
    "    distance_to_resource = zeros(Float64, number_resources);\n",
    "\n",
    "    for i = 1:number_resources # for each resource\n",
    "    # rand can be given a random number generator\n",
    "    # this is the 2-step distance draw because you can't just build a neg bin\n",
    "        distance_to_resource[i] = rand(Exponential(1.0 / rand(gamma_dist[i]))); # in meters\n",
    "        end\n",
    "    \n",
    "    return distance_to_resource    \n",
    "end \n",
    "\n",
    "                \n",
    "#What resource is the closest?\n",
    "# produces tuple of (distance, resource_id)\n",
    "function find_nearest_resource(resource_stats, dist_to_resource)\n",
    "    \n",
    "    distance_tuple = findmin(dist_to_resource); # touple b/c (value, index)\n",
    "    nearest_distance = distance_tuple[1]; # value of touple\n",
    "    nearest_resource = distance_tuple[2]; # index of touple        \n",
    "    return nearest_distance, nearest_resource\n",
    "end"
   ]
  }
 ],
 "metadata": {
  "@webio": {
   "lastCommId": "eaf57e62461347719feef8ae6f498bf4",
   "lastKernelId": "23d364ba-bb95-409e-b28b-256e540602af"
  },
  "kernelspec": {
   "display_name": "Julia 1.0.0",
   "language": "julia",
   "name": "julia-1.0"
  },
  "language_info": {
   "file_extension": ".jl",
   "mimetype": "application/julia",
   "name": "julia",
   "version": "1.0.0"
  }
 },
 "nbformat": 4,
 "nbformat_minor": 2
}
