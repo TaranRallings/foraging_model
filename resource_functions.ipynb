{
 "cells": [
  {
   "cell_type": "code",
   "execution_count": null,
   "metadata": {},
   "outputs": [],
   "source": [
    "using Distributions\n"
   ]
  },
  {
   "cell_type": "markdown",
   "metadata": {},
   "source": [
    "observed_mean = 0.1\n",
    "observed_variance = 0.2\n",
    "\n",
    "c = observed_mean ./ (observed_variance .- observed_mean); # [float] [g/m2 / (g2/m4 * g/m2) = g/m2 / g3/m6 = m4/g2]\n",
    "    alpha = c .* observed_mean;   # [float] [m4/g2 * g/m2 = m2/g]     \n",
    "    #lambda = alpha ./ c; # [float vector] [g/m2]\n",
    "    \n",
    "    \n",
    "    r = alpha;\n",
    "    p = 1/(1+c);\n",
    "    #Define the negative binomial distribution\n",
    "    neg_bin = NegativeBinomial(r, p)\n",
    "    \n",
    "    #Define the gamma distribution\n",
    "    gamma_dist = Gamma.(alpha, 1.0 ./ c); #mean = alpha * (1/c)\n",
    "\n",
    "rand(Exponential(1.0 / rand(gamma_dist)))"
   ]
  },
  {
   "cell_type": "code",
   "execution_count": 1,
   "metadata": {},
   "outputs": [
    {
     "data": {
      "text/plain": [
       "find_nearest_resource (generic function with 1 method)"
      ]
     },
     "execution_count": 1,
     "metadata": {},
     "output_type": "execute_result"
    }
   ],
   "source": [
    "function resource_distributions(observed_mean, observed_variance)\n",
    "    # derived alpha and c\n",
    "    c = observed_mean ./ (observed_variance .- observed_mean); # [float] [g/m2 / (g2/m4 * g/m2) = g/m2 / g3/m6 = m4/g2]\n",
    "    alpha = c .* observed_mean;   # [float] [m4/g2 * g/m2 = m2/g]     \n",
    "    #lambda = alpha ./ c; # [float vector] [g/m2]\n",
    "    \n",
    "    \n",
    "    r = alpha;\n",
    "    p = 1/(1+c);\n",
    "    #Define the negative binomial distribution\n",
    "    neg_bin = NegativeBinomial(r, p)\n",
    "    \n",
    "    #Define the gamma distribution\n",
    "    gamma_dist = Gamma.(alpha, 1.0 ./ c); #mean = alpha * (1/c)\n",
    "    \n",
    "    return gamma_dist\n",
    "end\n",
    "    \n",
    "\n",
    "# function for building list of distances to each resource\n",
    "function dist_to_resources(number_resources, gamma_dist)\n",
    "#Draw distances to each resource (meters)\n",
    "    distance_to_resource = zeros(Float64, number_resources);\n",
    "\n",
    "    for i = 1:number_resources # for each resource\n",
    "    # rand can be given a random number generator\n",
    "    # this is the 2-step distance draw because you can't just build a neg bin\n",
    "        distance_to_resource[i] = rand(Exponential(1.0 / rand(gamma_dist[i]))); # in meters\n",
    "        end\n",
    "    return distance_to_resource    \n",
    "end \n",
    "\n",
    "                \n",
    "#What resource is the closest?\n",
    "function find_nearest_resource(dist_to_resource)\n",
    "    distance_tuple = findmin(dist_to_resource); # touple b/c (value, index)\n",
    "    nearest_distance = distance_tuple[1]; # value of touple\n",
    "    nearest_resource = distance_tuple[2]; # index of touple        \n",
    "    return nearest_distance, nearest_resource\n",
    "end\n",
    "\n"
   ]
  },
  {
   "cell_type": "code",
   "execution_count": null,
   "metadata": {},
   "outputs": [],
   "source": []
  }
 ],
 "metadata": {
  "@webio": {
   "lastCommId": "4393e3ace856445580254d1e1e9100d2",
   "lastKernelId": "08a57187-79e0-466e-ae0b-29f4136fb42c"
  },
  "kernelspec": {
   "display_name": "Julia 1.0.0",
   "language": "julia",
   "name": "julia-1.0"
  },
  "language_info": {
   "file_extension": ".jl",
   "mimetype": "application/julia",
   "name": "julia",
   "version": "1.0.0"
  }
 },
 "nbformat": 4,
 "nbformat_minor": 2
}
